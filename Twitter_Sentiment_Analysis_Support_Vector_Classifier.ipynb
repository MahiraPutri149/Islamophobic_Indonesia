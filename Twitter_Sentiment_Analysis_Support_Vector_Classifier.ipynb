{
  "cells": [
    {
      "cell_type": "markdown",
      "metadata": {
        "id": "view-in-github",
        "colab_type": "text"
      },
      "source": [
        "<a href=\"https://colab.research.google.com/github/MahiraPutri149/Islamophobic_Indonesia/blob/main/Twitter_Sentiment_Analysis_Support_Vector_Classifier.ipynb\" target=\"_parent\"><img src=\"https://colab.research.google.com/assets/colab-badge.svg\" alt=\"Open In Colab\"/></a>"
      ]
    },
    {
      "cell_type": "markdown",
      "metadata": {
        "id": "iwdbTJ_ZIw7y"
      },
      "source": [
        "# Import Basic Libraries"
      ]
    },
    {
      "cell_type": "code",
      "execution_count": 1,
      "metadata": {
        "id": "QwA9OqE1IY53"
      },
      "outputs": [],
      "source": [
        "import sklearn\n",
        "import numpy as np\n",
        "import pandas as pd"
      ]
    },
    {
      "cell_type": "markdown",
      "metadata": {
        "id": "f1O1Bg_pI1VD"
      },
      "source": [
        "# Import Data"
      ]
    },
    {
      "cell_type": "code",
      "execution_count": 2,
      "metadata": {
        "id": "Galut_WrI4bV",
        "colab": {
          "base_uri": "https://localhost:8080/"
        },
        "outputId": "0c9b1b66-295a-4ad0-db6f-fa6893e375c6"
      },
      "outputs": [
        {
          "output_type": "stream",
          "name": "stderr",
          "text": [
            "<ipython-input-2-e737fdf3306c>:1: FutureWarning: Inferring datetime64[ns, UTC] from data containing strings is deprecated and will be removed in a future version. To retain the old behavior explicitly pass Series(data, dtype=datetime64[ns, UTC])\n",
            "  df = pd.read_excel('dataaa.xlsx')\n"
          ]
        }
      ],
      "source": [
        "df = pd.read_excel('dataaa.xlsx')"
      ]
    },
    {
      "cell_type": "markdown",
      "metadata": {
        "id": "rvtCODUEJciM"
      },
      "source": [
        "# Data Exploration (Exploratory Data Analysis)"
      ]
    },
    {
      "cell_type": "code",
      "execution_count": 3,
      "metadata": {
        "id": "Mni8YItfJcSs",
        "colab": {
          "base_uri": "https://localhost:8080/",
          "height": 206
        },
        "outputId": "032e57d9-229e-484b-f2f6-5e9386485460"
      },
      "outputs": [
        {
          "output_type": "execute_result",
          "data": {
            "text/plain": [
              "                   Datetime  \\\n",
              "0 2022-05-27 06:04:01+00:00   \n",
              "1 2022-05-27 04:34:08+00:00   \n",
              "2 2022-05-27 04:24:52+00:00   \n",
              "3 2022-05-27 00:50:14+00:00   \n",
              "4 2022-05-26 21:46:38+00:00   \n",
              "\n",
              "                                                Text  Label  \n",
              "0  Semoga yang benci islam atau sering giring opi...      0  \n",
              "1  @Naollivia @MegaPKeliduan Tenggelamkan sampai ...      0  \n",
              "2  @whyoedee @NUgarislucu Boleh benci dg Islam tp...      0  \n",
              "3   Aku mendukung abang karena papua jg saudara k...      0  \n",
              "4  @dyahwie @frsp_ Buat ngehina lah, dia kan benc...      0  "
            ],
            "text/html": [
              "\n",
              "  <div id=\"df-018a415a-169c-45f2-87cf-8db55dc94e88\" class=\"colab-df-container\">\n",
              "    <div>\n",
              "<style scoped>\n",
              "    .dataframe tbody tr th:only-of-type {\n",
              "        vertical-align: middle;\n",
              "    }\n",
              "\n",
              "    .dataframe tbody tr th {\n",
              "        vertical-align: top;\n",
              "    }\n",
              "\n",
              "    .dataframe thead th {\n",
              "        text-align: right;\n",
              "    }\n",
              "</style>\n",
              "<table border=\"1\" class=\"dataframe\">\n",
              "  <thead>\n",
              "    <tr style=\"text-align: right;\">\n",
              "      <th></th>\n",
              "      <th>Datetime</th>\n",
              "      <th>Text</th>\n",
              "      <th>Label</th>\n",
              "    </tr>\n",
              "  </thead>\n",
              "  <tbody>\n",
              "    <tr>\n",
              "      <th>0</th>\n",
              "      <td>2022-05-27 06:04:01+00:00</td>\n",
              "      <td>Semoga yang benci islam atau sering giring opi...</td>\n",
              "      <td>0</td>\n",
              "    </tr>\n",
              "    <tr>\n",
              "      <th>1</th>\n",
              "      <td>2022-05-27 04:34:08+00:00</td>\n",
              "      <td>@Naollivia @MegaPKeliduan Tenggelamkan sampai ...</td>\n",
              "      <td>0</td>\n",
              "    </tr>\n",
              "    <tr>\n",
              "      <th>2</th>\n",
              "      <td>2022-05-27 04:24:52+00:00</td>\n",
              "      <td>@whyoedee @NUgarislucu Boleh benci dg Islam tp...</td>\n",
              "      <td>0</td>\n",
              "    </tr>\n",
              "    <tr>\n",
              "      <th>3</th>\n",
              "      <td>2022-05-27 00:50:14+00:00</td>\n",
              "      <td>Aku mendukung abang karena papua jg saudara k...</td>\n",
              "      <td>0</td>\n",
              "    </tr>\n",
              "    <tr>\n",
              "      <th>4</th>\n",
              "      <td>2022-05-26 21:46:38+00:00</td>\n",
              "      <td>@dyahwie @frsp_ Buat ngehina lah, dia kan benc...</td>\n",
              "      <td>0</td>\n",
              "    </tr>\n",
              "  </tbody>\n",
              "</table>\n",
              "</div>\n",
              "    <div class=\"colab-df-buttons\">\n",
              "\n",
              "  <div class=\"colab-df-container\">\n",
              "    <button class=\"colab-df-convert\" onclick=\"convertToInteractive('df-018a415a-169c-45f2-87cf-8db55dc94e88')\"\n",
              "            title=\"Convert this dataframe to an interactive table.\"\n",
              "            style=\"display:none;\">\n",
              "\n",
              "  <svg xmlns=\"http://www.w3.org/2000/svg\" height=\"24px\" viewBox=\"0 -960 960 960\">\n",
              "    <path d=\"M120-120v-720h720v720H120Zm60-500h600v-160H180v160Zm220 220h160v-160H400v160Zm0 220h160v-160H400v160ZM180-400h160v-160H180v160Zm440 0h160v-160H620v160ZM180-180h160v-160H180v160Zm440 0h160v-160H620v160Z\"/>\n",
              "  </svg>\n",
              "    </button>\n",
              "\n",
              "  <style>\n",
              "    .colab-df-container {\n",
              "      display:flex;\n",
              "      gap: 12px;\n",
              "    }\n",
              "\n",
              "    .colab-df-convert {\n",
              "      background-color: #E8F0FE;\n",
              "      border: none;\n",
              "      border-radius: 50%;\n",
              "      cursor: pointer;\n",
              "      display: none;\n",
              "      fill: #1967D2;\n",
              "      height: 32px;\n",
              "      padding: 0 0 0 0;\n",
              "      width: 32px;\n",
              "    }\n",
              "\n",
              "    .colab-df-convert:hover {\n",
              "      background-color: #E2EBFA;\n",
              "      box-shadow: 0px 1px 2px rgba(60, 64, 67, 0.3), 0px 1px 3px 1px rgba(60, 64, 67, 0.15);\n",
              "      fill: #174EA6;\n",
              "    }\n",
              "\n",
              "    .colab-df-buttons div {\n",
              "      margin-bottom: 4px;\n",
              "    }\n",
              "\n",
              "    [theme=dark] .colab-df-convert {\n",
              "      background-color: #3B4455;\n",
              "      fill: #D2E3FC;\n",
              "    }\n",
              "\n",
              "    [theme=dark] .colab-df-convert:hover {\n",
              "      background-color: #434B5C;\n",
              "      box-shadow: 0px 1px 3px 1px rgba(0, 0, 0, 0.15);\n",
              "      filter: drop-shadow(0px 1px 2px rgba(0, 0, 0, 0.3));\n",
              "      fill: #FFFFFF;\n",
              "    }\n",
              "  </style>\n",
              "\n",
              "    <script>\n",
              "      const buttonEl =\n",
              "        document.querySelector('#df-018a415a-169c-45f2-87cf-8db55dc94e88 button.colab-df-convert');\n",
              "      buttonEl.style.display =\n",
              "        google.colab.kernel.accessAllowed ? 'block' : 'none';\n",
              "\n",
              "      async function convertToInteractive(key) {\n",
              "        const element = document.querySelector('#df-018a415a-169c-45f2-87cf-8db55dc94e88');\n",
              "        const dataTable =\n",
              "          await google.colab.kernel.invokeFunction('convertToInteractive',\n",
              "                                                    [key], {});\n",
              "        if (!dataTable) return;\n",
              "\n",
              "        const docLinkHtml = 'Like what you see? Visit the ' +\n",
              "          '<a target=\"_blank\" href=https://colab.research.google.com/notebooks/data_table.ipynb>data table notebook</a>'\n",
              "          + ' to learn more about interactive tables.';\n",
              "        element.innerHTML = '';\n",
              "        dataTable['output_type'] = 'display_data';\n",
              "        await google.colab.output.renderOutput(dataTable, element);\n",
              "        const docLink = document.createElement('div');\n",
              "        docLink.innerHTML = docLinkHtml;\n",
              "        element.appendChild(docLink);\n",
              "      }\n",
              "    </script>\n",
              "  </div>\n",
              "\n",
              "\n",
              "<div id=\"df-9621ea33-ea29-4c98-bf81-9d419e0348f8\">\n",
              "  <button class=\"colab-df-quickchart\" onclick=\"quickchart('df-9621ea33-ea29-4c98-bf81-9d419e0348f8')\"\n",
              "            title=\"Suggest charts.\"\n",
              "            style=\"display:none;\">\n",
              "\n",
              "<svg xmlns=\"http://www.w3.org/2000/svg\" height=\"24px\"viewBox=\"0 0 24 24\"\n",
              "     width=\"24px\">\n",
              "    <g>\n",
              "        <path d=\"M19 3H5c-1.1 0-2 .9-2 2v14c0 1.1.9 2 2 2h14c1.1 0 2-.9 2-2V5c0-1.1-.9-2-2-2zM9 17H7v-7h2v7zm4 0h-2V7h2v10zm4 0h-2v-4h2v4z\"/>\n",
              "    </g>\n",
              "</svg>\n",
              "  </button>\n",
              "\n",
              "<style>\n",
              "  .colab-df-quickchart {\n",
              "      --bg-color: #E8F0FE;\n",
              "      --fill-color: #1967D2;\n",
              "      --hover-bg-color: #E2EBFA;\n",
              "      --hover-fill-color: #174EA6;\n",
              "      --disabled-fill-color: #AAA;\n",
              "      --disabled-bg-color: #DDD;\n",
              "  }\n",
              "\n",
              "  [theme=dark] .colab-df-quickchart {\n",
              "      --bg-color: #3B4455;\n",
              "      --fill-color: #D2E3FC;\n",
              "      --hover-bg-color: #434B5C;\n",
              "      --hover-fill-color: #FFFFFF;\n",
              "      --disabled-bg-color: #3B4455;\n",
              "      --disabled-fill-color: #666;\n",
              "  }\n",
              "\n",
              "  .colab-df-quickchart {\n",
              "    background-color: var(--bg-color);\n",
              "    border: none;\n",
              "    border-radius: 50%;\n",
              "    cursor: pointer;\n",
              "    display: none;\n",
              "    fill: var(--fill-color);\n",
              "    height: 32px;\n",
              "    padding: 0;\n",
              "    width: 32px;\n",
              "  }\n",
              "\n",
              "  .colab-df-quickchart:hover {\n",
              "    background-color: var(--hover-bg-color);\n",
              "    box-shadow: 0 1px 2px rgba(60, 64, 67, 0.3), 0 1px 3px 1px rgba(60, 64, 67, 0.15);\n",
              "    fill: var(--button-hover-fill-color);\n",
              "  }\n",
              "\n",
              "  .colab-df-quickchart-complete:disabled,\n",
              "  .colab-df-quickchart-complete:disabled:hover {\n",
              "    background-color: var(--disabled-bg-color);\n",
              "    fill: var(--disabled-fill-color);\n",
              "    box-shadow: none;\n",
              "  }\n",
              "\n",
              "  .colab-df-spinner {\n",
              "    border: 2px solid var(--fill-color);\n",
              "    border-color: transparent;\n",
              "    border-bottom-color: var(--fill-color);\n",
              "    animation:\n",
              "      spin 1s steps(1) infinite;\n",
              "  }\n",
              "\n",
              "  @keyframes spin {\n",
              "    0% {\n",
              "      border-color: transparent;\n",
              "      border-bottom-color: var(--fill-color);\n",
              "      border-left-color: var(--fill-color);\n",
              "    }\n",
              "    20% {\n",
              "      border-color: transparent;\n",
              "      border-left-color: var(--fill-color);\n",
              "      border-top-color: var(--fill-color);\n",
              "    }\n",
              "    30% {\n",
              "      border-color: transparent;\n",
              "      border-left-color: var(--fill-color);\n",
              "      border-top-color: var(--fill-color);\n",
              "      border-right-color: var(--fill-color);\n",
              "    }\n",
              "    40% {\n",
              "      border-color: transparent;\n",
              "      border-right-color: var(--fill-color);\n",
              "      border-top-color: var(--fill-color);\n",
              "    }\n",
              "    60% {\n",
              "      border-color: transparent;\n",
              "      border-right-color: var(--fill-color);\n",
              "    }\n",
              "    80% {\n",
              "      border-color: transparent;\n",
              "      border-right-color: var(--fill-color);\n",
              "      border-bottom-color: var(--fill-color);\n",
              "    }\n",
              "    90% {\n",
              "      border-color: transparent;\n",
              "      border-bottom-color: var(--fill-color);\n",
              "    }\n",
              "  }\n",
              "</style>\n",
              "\n",
              "  <script>\n",
              "    async function quickchart(key) {\n",
              "      const quickchartButtonEl =\n",
              "        document.querySelector('#' + key + ' button');\n",
              "      quickchartButtonEl.disabled = true;  // To prevent multiple clicks.\n",
              "      quickchartButtonEl.classList.add('colab-df-spinner');\n",
              "      try {\n",
              "        const charts = await google.colab.kernel.invokeFunction(\n",
              "            'suggestCharts', [key], {});\n",
              "      } catch (error) {\n",
              "        console.error('Error during call to suggestCharts:', error);\n",
              "      }\n",
              "      quickchartButtonEl.classList.remove('colab-df-spinner');\n",
              "      quickchartButtonEl.classList.add('colab-df-quickchart-complete');\n",
              "    }\n",
              "    (() => {\n",
              "      let quickchartButtonEl =\n",
              "        document.querySelector('#df-9621ea33-ea29-4c98-bf81-9d419e0348f8 button');\n",
              "      quickchartButtonEl.style.display =\n",
              "        google.colab.kernel.accessAllowed ? 'block' : 'none';\n",
              "    })();\n",
              "  </script>\n",
              "</div>\n",
              "    </div>\n",
              "  </div>\n"
            ]
          },
          "metadata": {},
          "execution_count": 3
        }
      ],
      "source": [
        "df.head()"
      ]
    },
    {
      "cell_type": "code",
      "execution_count": 4,
      "metadata": {
        "id": "lRex8owXJV40",
        "colab": {
          "base_uri": "https://localhost:8080/",
          "height": 206
        },
        "outputId": "bbda8a30-e6b0-4bdc-b6f5-ad2561f89bd0"
      },
      "outputs": [
        {
          "output_type": "execute_result",
          "data": {
            "text/plain": [
              "                      Datetime  \\\n",
              "1577 2022-03-21 06:06:23+00:00   \n",
              "1578 2022-03-21 05:29:57+00:00   \n",
              "1579 2022-03-21 05:25:57+00:00   \n",
              "1580 2022-03-21 05:13:02+00:00   \n",
              "1581 2022-03-21 05:02:42+00:00   \n",
              "\n",
              "                                                   Text  Label  \n",
              "1577  @Bambang_Budimab @Syarman59 @geloraco Kl benci...      0  \n",
              "1578  @wardoyooioi @tifsembiring Sampeyan yg merasa ...      0  \n",
              "1579  @katzedikke Autis amatiran bau kencur yaa bgit...      1  \n",
              "1580  @LindaKa81442002 @Mdy_Asmara1701 Orang yang ng...      0  \n",
              "1581  @jenny_jkt @yaniarsim Tp ama terorisme papua k...      0  "
            ],
            "text/html": [
              "\n",
              "  <div id=\"df-85be96d3-7c80-4ff8-a1a1-97b112e92818\" class=\"colab-df-container\">\n",
              "    <div>\n",
              "<style scoped>\n",
              "    .dataframe tbody tr th:only-of-type {\n",
              "        vertical-align: middle;\n",
              "    }\n",
              "\n",
              "    .dataframe tbody tr th {\n",
              "        vertical-align: top;\n",
              "    }\n",
              "\n",
              "    .dataframe thead th {\n",
              "        text-align: right;\n",
              "    }\n",
              "</style>\n",
              "<table border=\"1\" class=\"dataframe\">\n",
              "  <thead>\n",
              "    <tr style=\"text-align: right;\">\n",
              "      <th></th>\n",
              "      <th>Datetime</th>\n",
              "      <th>Text</th>\n",
              "      <th>Label</th>\n",
              "    </tr>\n",
              "  </thead>\n",
              "  <tbody>\n",
              "    <tr>\n",
              "      <th>1577</th>\n",
              "      <td>2022-03-21 06:06:23+00:00</td>\n",
              "      <td>@Bambang_Budimab @Syarman59 @geloraco Kl benci...</td>\n",
              "      <td>0</td>\n",
              "    </tr>\n",
              "    <tr>\n",
              "      <th>1578</th>\n",
              "      <td>2022-03-21 05:29:57+00:00</td>\n",
              "      <td>@wardoyooioi @tifsembiring Sampeyan yg merasa ...</td>\n",
              "      <td>0</td>\n",
              "    </tr>\n",
              "    <tr>\n",
              "      <th>1579</th>\n",
              "      <td>2022-03-21 05:25:57+00:00</td>\n",
              "      <td>@katzedikke Autis amatiran bau kencur yaa bgit...</td>\n",
              "      <td>1</td>\n",
              "    </tr>\n",
              "    <tr>\n",
              "      <th>1580</th>\n",
              "      <td>2022-03-21 05:13:02+00:00</td>\n",
              "      <td>@LindaKa81442002 @Mdy_Asmara1701 Orang yang ng...</td>\n",
              "      <td>0</td>\n",
              "    </tr>\n",
              "    <tr>\n",
              "      <th>1581</th>\n",
              "      <td>2022-03-21 05:02:42+00:00</td>\n",
              "      <td>@jenny_jkt @yaniarsim Tp ama terorisme papua k...</td>\n",
              "      <td>0</td>\n",
              "    </tr>\n",
              "  </tbody>\n",
              "</table>\n",
              "</div>\n",
              "    <div class=\"colab-df-buttons\">\n",
              "\n",
              "  <div class=\"colab-df-container\">\n",
              "    <button class=\"colab-df-convert\" onclick=\"convertToInteractive('df-85be96d3-7c80-4ff8-a1a1-97b112e92818')\"\n",
              "            title=\"Convert this dataframe to an interactive table.\"\n",
              "            style=\"display:none;\">\n",
              "\n",
              "  <svg xmlns=\"http://www.w3.org/2000/svg\" height=\"24px\" viewBox=\"0 -960 960 960\">\n",
              "    <path d=\"M120-120v-720h720v720H120Zm60-500h600v-160H180v160Zm220 220h160v-160H400v160Zm0 220h160v-160H400v160ZM180-400h160v-160H180v160Zm440 0h160v-160H620v160ZM180-180h160v-160H180v160Zm440 0h160v-160H620v160Z\"/>\n",
              "  </svg>\n",
              "    </button>\n",
              "\n",
              "  <style>\n",
              "    .colab-df-container {\n",
              "      display:flex;\n",
              "      gap: 12px;\n",
              "    }\n",
              "\n",
              "    .colab-df-convert {\n",
              "      background-color: #E8F0FE;\n",
              "      border: none;\n",
              "      border-radius: 50%;\n",
              "      cursor: pointer;\n",
              "      display: none;\n",
              "      fill: #1967D2;\n",
              "      height: 32px;\n",
              "      padding: 0 0 0 0;\n",
              "      width: 32px;\n",
              "    }\n",
              "\n",
              "    .colab-df-convert:hover {\n",
              "      background-color: #E2EBFA;\n",
              "      box-shadow: 0px 1px 2px rgba(60, 64, 67, 0.3), 0px 1px 3px 1px rgba(60, 64, 67, 0.15);\n",
              "      fill: #174EA6;\n",
              "    }\n",
              "\n",
              "    .colab-df-buttons div {\n",
              "      margin-bottom: 4px;\n",
              "    }\n",
              "\n",
              "    [theme=dark] .colab-df-convert {\n",
              "      background-color: #3B4455;\n",
              "      fill: #D2E3FC;\n",
              "    }\n",
              "\n",
              "    [theme=dark] .colab-df-convert:hover {\n",
              "      background-color: #434B5C;\n",
              "      box-shadow: 0px 1px 3px 1px rgba(0, 0, 0, 0.15);\n",
              "      filter: drop-shadow(0px 1px 2px rgba(0, 0, 0, 0.3));\n",
              "      fill: #FFFFFF;\n",
              "    }\n",
              "  </style>\n",
              "\n",
              "    <script>\n",
              "      const buttonEl =\n",
              "        document.querySelector('#df-85be96d3-7c80-4ff8-a1a1-97b112e92818 button.colab-df-convert');\n",
              "      buttonEl.style.display =\n",
              "        google.colab.kernel.accessAllowed ? 'block' : 'none';\n",
              "\n",
              "      async function convertToInteractive(key) {\n",
              "        const element = document.querySelector('#df-85be96d3-7c80-4ff8-a1a1-97b112e92818');\n",
              "        const dataTable =\n",
              "          await google.colab.kernel.invokeFunction('convertToInteractive',\n",
              "                                                    [key], {});\n",
              "        if (!dataTable) return;\n",
              "\n",
              "        const docLinkHtml = 'Like what you see? Visit the ' +\n",
              "          '<a target=\"_blank\" href=https://colab.research.google.com/notebooks/data_table.ipynb>data table notebook</a>'\n",
              "          + ' to learn more about interactive tables.';\n",
              "        element.innerHTML = '';\n",
              "        dataTable['output_type'] = 'display_data';\n",
              "        await google.colab.output.renderOutput(dataTable, element);\n",
              "        const docLink = document.createElement('div');\n",
              "        docLink.innerHTML = docLinkHtml;\n",
              "        element.appendChild(docLink);\n",
              "      }\n",
              "    </script>\n",
              "  </div>\n",
              "\n",
              "\n",
              "<div id=\"df-d9030269-acdc-4c5a-b8d4-cb7d0bb2ed03\">\n",
              "  <button class=\"colab-df-quickchart\" onclick=\"quickchart('df-d9030269-acdc-4c5a-b8d4-cb7d0bb2ed03')\"\n",
              "            title=\"Suggest charts.\"\n",
              "            style=\"display:none;\">\n",
              "\n",
              "<svg xmlns=\"http://www.w3.org/2000/svg\" height=\"24px\"viewBox=\"0 0 24 24\"\n",
              "     width=\"24px\">\n",
              "    <g>\n",
              "        <path d=\"M19 3H5c-1.1 0-2 .9-2 2v14c0 1.1.9 2 2 2h14c1.1 0 2-.9 2-2V5c0-1.1-.9-2-2-2zM9 17H7v-7h2v7zm4 0h-2V7h2v10zm4 0h-2v-4h2v4z\"/>\n",
              "    </g>\n",
              "</svg>\n",
              "  </button>\n",
              "\n",
              "<style>\n",
              "  .colab-df-quickchart {\n",
              "      --bg-color: #E8F0FE;\n",
              "      --fill-color: #1967D2;\n",
              "      --hover-bg-color: #E2EBFA;\n",
              "      --hover-fill-color: #174EA6;\n",
              "      --disabled-fill-color: #AAA;\n",
              "      --disabled-bg-color: #DDD;\n",
              "  }\n",
              "\n",
              "  [theme=dark] .colab-df-quickchart {\n",
              "      --bg-color: #3B4455;\n",
              "      --fill-color: #D2E3FC;\n",
              "      --hover-bg-color: #434B5C;\n",
              "      --hover-fill-color: #FFFFFF;\n",
              "      --disabled-bg-color: #3B4455;\n",
              "      --disabled-fill-color: #666;\n",
              "  }\n",
              "\n",
              "  .colab-df-quickchart {\n",
              "    background-color: var(--bg-color);\n",
              "    border: none;\n",
              "    border-radius: 50%;\n",
              "    cursor: pointer;\n",
              "    display: none;\n",
              "    fill: var(--fill-color);\n",
              "    height: 32px;\n",
              "    padding: 0;\n",
              "    width: 32px;\n",
              "  }\n",
              "\n",
              "  .colab-df-quickchart:hover {\n",
              "    background-color: var(--hover-bg-color);\n",
              "    box-shadow: 0 1px 2px rgba(60, 64, 67, 0.3), 0 1px 3px 1px rgba(60, 64, 67, 0.15);\n",
              "    fill: var(--button-hover-fill-color);\n",
              "  }\n",
              "\n",
              "  .colab-df-quickchart-complete:disabled,\n",
              "  .colab-df-quickchart-complete:disabled:hover {\n",
              "    background-color: var(--disabled-bg-color);\n",
              "    fill: var(--disabled-fill-color);\n",
              "    box-shadow: none;\n",
              "  }\n",
              "\n",
              "  .colab-df-spinner {\n",
              "    border: 2px solid var(--fill-color);\n",
              "    border-color: transparent;\n",
              "    border-bottom-color: var(--fill-color);\n",
              "    animation:\n",
              "      spin 1s steps(1) infinite;\n",
              "  }\n",
              "\n",
              "  @keyframes spin {\n",
              "    0% {\n",
              "      border-color: transparent;\n",
              "      border-bottom-color: var(--fill-color);\n",
              "      border-left-color: var(--fill-color);\n",
              "    }\n",
              "    20% {\n",
              "      border-color: transparent;\n",
              "      border-left-color: var(--fill-color);\n",
              "      border-top-color: var(--fill-color);\n",
              "    }\n",
              "    30% {\n",
              "      border-color: transparent;\n",
              "      border-left-color: var(--fill-color);\n",
              "      border-top-color: var(--fill-color);\n",
              "      border-right-color: var(--fill-color);\n",
              "    }\n",
              "    40% {\n",
              "      border-color: transparent;\n",
              "      border-right-color: var(--fill-color);\n",
              "      border-top-color: var(--fill-color);\n",
              "    }\n",
              "    60% {\n",
              "      border-color: transparent;\n",
              "      border-right-color: var(--fill-color);\n",
              "    }\n",
              "    80% {\n",
              "      border-color: transparent;\n",
              "      border-right-color: var(--fill-color);\n",
              "      border-bottom-color: var(--fill-color);\n",
              "    }\n",
              "    90% {\n",
              "      border-color: transparent;\n",
              "      border-bottom-color: var(--fill-color);\n",
              "    }\n",
              "  }\n",
              "</style>\n",
              "\n",
              "  <script>\n",
              "    async function quickchart(key) {\n",
              "      const quickchartButtonEl =\n",
              "        document.querySelector('#' + key + ' button');\n",
              "      quickchartButtonEl.disabled = true;  // To prevent multiple clicks.\n",
              "      quickchartButtonEl.classList.add('colab-df-spinner');\n",
              "      try {\n",
              "        const charts = await google.colab.kernel.invokeFunction(\n",
              "            'suggestCharts', [key], {});\n",
              "      } catch (error) {\n",
              "        console.error('Error during call to suggestCharts:', error);\n",
              "      }\n",
              "      quickchartButtonEl.classList.remove('colab-df-spinner');\n",
              "      quickchartButtonEl.classList.add('colab-df-quickchart-complete');\n",
              "    }\n",
              "    (() => {\n",
              "      let quickchartButtonEl =\n",
              "        document.querySelector('#df-d9030269-acdc-4c5a-b8d4-cb7d0bb2ed03 button');\n",
              "      quickchartButtonEl.style.display =\n",
              "        google.colab.kernel.accessAllowed ? 'block' : 'none';\n",
              "    })();\n",
              "  </script>\n",
              "</div>\n",
              "    </div>\n",
              "  </div>\n"
            ]
          },
          "metadata": {},
          "execution_count": 4
        }
      ],
      "source": [
        "df.tail()"
      ]
    },
    {
      "cell_type": "code",
      "source": [
        "df.info()"
      ],
      "metadata": {
        "id": "Om3H8gHTaVvd",
        "colab": {
          "base_uri": "https://localhost:8080/"
        },
        "outputId": "7fc35ca4-f6cd-4d58-d49b-879f44274ed4"
      },
      "execution_count": 5,
      "outputs": [
        {
          "output_type": "stream",
          "name": "stdout",
          "text": [
            "<class 'pandas.core.frame.DataFrame'>\n",
            "RangeIndex: 1582 entries, 0 to 1581\n",
            "Data columns (total 3 columns):\n",
            " #   Column    Non-Null Count  Dtype              \n",
            "---  ------    --------------  -----              \n",
            " 0   Datetime  1582 non-null   datetime64[ns, UTC]\n",
            " 1   Text      1582 non-null   object             \n",
            " 2   Label     1582 non-null   int64              \n",
            "dtypes: datetime64[ns, UTC](1), int64(1), object(1)\n",
            "memory usage: 37.2+ KB\n"
          ]
        }
      ]
    },
    {
      "cell_type": "code",
      "execution_count": 6,
      "metadata": {
        "id": "jAUIxDOYJmvt",
        "colab": {
          "base_uri": "https://localhost:8080/"
        },
        "outputId": "f128d46a-3f32-4f81-9ae8-32596c3d0c9c"
      },
      "outputs": [
        {
          "output_type": "execute_result",
          "data": {
            "text/plain": [
              "1194"
            ]
          },
          "metadata": {},
          "execution_count": 6
        }
      ],
      "source": [
        "# non-islamophobic related tweets\n",
        "sum(df[\"Label\"] == 0)"
      ]
    },
    {
      "cell_type": "code",
      "execution_count": 7,
      "metadata": {
        "id": "ijAyVcYjKPc_",
        "colab": {
          "base_uri": "https://localhost:8080/"
        },
        "outputId": "6db9292a-fa49-4379-a8f7-578c1562316d"
      },
      "outputs": [
        {
          "output_type": "execute_result",
          "data": {
            "text/plain": [
              "388"
            ]
          },
          "metadata": {},
          "execution_count": 7
        }
      ],
      "source": [
        "# islamophobic related tweets\n",
        "sum(df[\"Label\"] == 1)"
      ]
    },
    {
      "cell_type": "code",
      "execution_count": 8,
      "metadata": {
        "id": "mubp2OU0M2-M",
        "colab": {
          "base_uri": "https://localhost:8080/"
        },
        "outputId": "d5bb795e-aeba-4aaa-a5de-c12b540cfabc"
      },
      "outputs": [
        {
          "output_type": "execute_result",
          "data": {
            "text/plain": [
              "Datetime    0\n",
              "Text        0\n",
              "Label       0\n",
              "dtype: int64"
            ]
          },
          "metadata": {},
          "execution_count": 8
        }
      ],
      "source": [
        "# check if there are any missing values\n",
        "df.isnull().sum()"
      ]
    },
    {
      "cell_type": "markdown",
      "metadata": {
        "id": "m9uidliWUL9t"
      },
      "source": [
        "# Data cleaning"
      ]
    },
    {
      "cell_type": "code",
      "execution_count": 9,
      "metadata": {
        "id": "G9BW8zWhKWbn",
        "colab": {
          "base_uri": "https://localhost:8080/"
        },
        "outputId": "c38273e8-4aa7-426b-b789-a7ed794b5387"
      },
      "outputs": [
        {
          "output_type": "stream",
          "name": "stdout",
          "text": [
            "Collecting tweet-preprocessor\n",
            "  Downloading tweet_preprocessor-0.6.0-py3-none-any.whl (27 kB)\n",
            "Installing collected packages: tweet-preprocessor\n",
            "Successfully installed tweet-preprocessor-0.6.0\n"
          ]
        }
      ],
      "source": [
        "#install tweet-preprocessor to clean tweets\n",
        "!pip install tweet-preprocessor"
      ]
    },
    {
      "cell_type": "code",
      "execution_count": 10,
      "metadata": {
        "id": "iB47T9w3YNry"
      },
      "outputs": [],
      "source": [
        "# remove special characters using the regular expression library\n",
        "import re\n",
        "\n",
        "#set up punctuations we want to be replaced\n",
        "REPLACE_NO_SPACE = re.compile(\"(\\.)|(\\;)|(\\:)|(\\!)|(\\')|(\\?)|(\\,)|(\\\")|(\\|)|(\\()|(\\))|(\\[)|(\\])|(\\%)|(\\$)|(\\>)|(\\<)|(\\{)|(\\})\")\n",
        "REPLACE_WITH_SPACE = re.compile(\"(<br\\s/><br\\s/?)|(-)|(/)|(:).\")"
      ]
    },
    {
      "cell_type": "code",
      "execution_count": 11,
      "metadata": {
        "id": "6Kaf60xXPryT"
      },
      "outputs": [],
      "source": [
        "import preprocessor as p\n",
        "\n",
        "# custum function to clean the dataset (combining tweet_preprocessor and reguar expression)\n",
        "def clean_tweets(df):\n",
        "  tempArr = []\n",
        "  for line in df:\n",
        "    # send to tweet_processor\n",
        "    tmpL = p.clean(line)\n",
        "    # remove puctuation\n",
        "    tmpL = REPLACE_NO_SPACE.sub(\"\", tmpL.lower()) # convert all tweets to lower cases\n",
        "    tmpL = REPLACE_WITH_SPACE.sub(\" \", tmpL)\n",
        "    tempArr.append(tmpL)\n",
        "  return tempArr"
      ]
    },
    {
      "cell_type": "code",
      "execution_count": 12,
      "metadata": {
        "id": "B5BFI2HEUm6W"
      },
      "outputs": [],
      "source": [
        "# clean training data\n",
        "train_tweet = clean_tweets(df[\"Text\"])\n",
        "train_tweet = pd.DataFrame(train_tweet)"
      ]
    },
    {
      "cell_type": "code",
      "execution_count": 13,
      "metadata": {
        "id": "suq-CJYUXAT8",
        "colab": {
          "base_uri": "https://localhost:8080/",
          "height": 363
        },
        "outputId": "82acacda-3ff4-48dd-c6da-59436438e50a"
      },
      "outputs": [
        {
          "output_type": "execute_result",
          "data": {
            "text/plain": [
              "                   Datetime  \\\n",
              "0 2022-05-27 06:04:01+00:00   \n",
              "1 2022-05-27 04:34:08+00:00   \n",
              "2 2022-05-27 04:24:52+00:00   \n",
              "3 2022-05-27 00:50:14+00:00   \n",
              "4 2022-05-26 21:46:38+00:00   \n",
              "5 2022-05-26 21:46:00+00:00   \n",
              "6 2022-05-26 21:25:14+00:00   \n",
              "7 2022-05-26 21:24:36+00:00   \n",
              "8 2022-05-26 21:08:26+00:00   \n",
              "9 2022-05-26 20:27:29+00:00   \n",
              "\n",
              "                                                Text  Label  \\\n",
              "0  Semoga yang benci islam atau sering giring opi...      0   \n",
              "1  @Naollivia @MegaPKeliduan Tenggelamkan sampai ...      0   \n",
              "2  @whyoedee @NUgarislucu Boleh benci dg Islam tp...      0   \n",
              "3   Aku mendukung abang karena papua jg saudara k...      0   \n",
              "4  @dyahwie @frsp_ Buat ngehina lah, dia kan benc...      0   \n",
              "5  Satu persatu akun2 kek @MegaPKeliduan yg rasis...      0   \n",
              "6  @Iqbalfas @f0rdd_ @FNazy14 @otterion @deadnerv...      1   \n",
              "7  Gapernah sebelumnya tau doi ngapain aja sampe ...      0   \n",
              "8   @rafajar8 @Adasaja92561423 @Hilmi28 @ustadabd...      1   \n",
              "9  @herumeneutic disatu sisi,lu ngajak orang untk...      0   \n",
              "\n",
              "                                         clean_tweet  \n",
              "0  semoga yang benci islam atau sering giring opi...  \n",
              "1  tenggelamkan sampai dasar lautan manusia rasis...  \n",
              "2  boleh benci dg islam tp jgn melesetkan kt takb...  \n",
              "3  aku mendukung abang karena papua jg saudara ku...  \n",
              "4               buat ngehina lah dia kan benci islam  \n",
              "5  satu persatu akun2 kek yg rasis benci partai i...  \n",
              "6  kalo benci ya benci aja bang ga butuh alasan a...  \n",
              "7  gapernah sebelumnya tau doi ngapain aja sampe ...  \n",
              "8  kenapa benci somad karena dialah tipe bajingan...  \n",
              "9  disatu sisilu ngajak orang untk ikut mendukung...  "
            ],
            "text/html": [
              "\n",
              "  <div id=\"df-5902465e-1054-4252-b3d8-68c8806579d1\" class=\"colab-df-container\">\n",
              "    <div>\n",
              "<style scoped>\n",
              "    .dataframe tbody tr th:only-of-type {\n",
              "        vertical-align: middle;\n",
              "    }\n",
              "\n",
              "    .dataframe tbody tr th {\n",
              "        vertical-align: top;\n",
              "    }\n",
              "\n",
              "    .dataframe thead th {\n",
              "        text-align: right;\n",
              "    }\n",
              "</style>\n",
              "<table border=\"1\" class=\"dataframe\">\n",
              "  <thead>\n",
              "    <tr style=\"text-align: right;\">\n",
              "      <th></th>\n",
              "      <th>Datetime</th>\n",
              "      <th>Text</th>\n",
              "      <th>Label</th>\n",
              "      <th>clean_tweet</th>\n",
              "    </tr>\n",
              "  </thead>\n",
              "  <tbody>\n",
              "    <tr>\n",
              "      <th>0</th>\n",
              "      <td>2022-05-27 06:04:01+00:00</td>\n",
              "      <td>Semoga yang benci islam atau sering giring opi...</td>\n",
              "      <td>0</td>\n",
              "      <td>semoga yang benci islam atau sering giring opi...</td>\n",
              "    </tr>\n",
              "    <tr>\n",
              "      <th>1</th>\n",
              "      <td>2022-05-27 04:34:08+00:00</td>\n",
              "      <td>@Naollivia @MegaPKeliduan Tenggelamkan sampai ...</td>\n",
              "      <td>0</td>\n",
              "      <td>tenggelamkan sampai dasar lautan manusia rasis...</td>\n",
              "    </tr>\n",
              "    <tr>\n",
              "      <th>2</th>\n",
              "      <td>2022-05-27 04:24:52+00:00</td>\n",
              "      <td>@whyoedee @NUgarislucu Boleh benci dg Islam tp...</td>\n",
              "      <td>0</td>\n",
              "      <td>boleh benci dg islam tp jgn melesetkan kt takb...</td>\n",
              "    </tr>\n",
              "    <tr>\n",
              "      <th>3</th>\n",
              "      <td>2022-05-27 00:50:14+00:00</td>\n",
              "      <td>Aku mendukung abang karena papua jg saudara k...</td>\n",
              "      <td>0</td>\n",
              "      <td>aku mendukung abang karena papua jg saudara ku...</td>\n",
              "    </tr>\n",
              "    <tr>\n",
              "      <th>4</th>\n",
              "      <td>2022-05-26 21:46:38+00:00</td>\n",
              "      <td>@dyahwie @frsp_ Buat ngehina lah, dia kan benc...</td>\n",
              "      <td>0</td>\n",
              "      <td>buat ngehina lah dia kan benci islam</td>\n",
              "    </tr>\n",
              "    <tr>\n",
              "      <th>5</th>\n",
              "      <td>2022-05-26 21:46:00+00:00</td>\n",
              "      <td>Satu persatu akun2 kek @MegaPKeliduan yg rasis...</td>\n",
              "      <td>0</td>\n",
              "      <td>satu persatu akun2 kek yg rasis benci partai i...</td>\n",
              "    </tr>\n",
              "    <tr>\n",
              "      <th>6</th>\n",
              "      <td>2022-05-26 21:25:14+00:00</td>\n",
              "      <td>@Iqbalfas @f0rdd_ @FNazy14 @otterion @deadnerv...</td>\n",
              "      <td>1</td>\n",
              "      <td>kalo benci ya benci aja bang ga butuh alasan a...</td>\n",
              "    </tr>\n",
              "    <tr>\n",
              "      <th>7</th>\n",
              "      <td>2022-05-26 21:24:36+00:00</td>\n",
              "      <td>Gapernah sebelumnya tau doi ngapain aja sampe ...</td>\n",
              "      <td>0</td>\n",
              "      <td>gapernah sebelumnya tau doi ngapain aja sampe ...</td>\n",
              "    </tr>\n",
              "    <tr>\n",
              "      <th>8</th>\n",
              "      <td>2022-05-26 21:08:26+00:00</td>\n",
              "      <td>@rafajar8 @Adasaja92561423 @Hilmi28 @ustadabd...</td>\n",
              "      <td>1</td>\n",
              "      <td>kenapa benci somad karena dialah tipe bajingan...</td>\n",
              "    </tr>\n",
              "    <tr>\n",
              "      <th>9</th>\n",
              "      <td>2022-05-26 20:27:29+00:00</td>\n",
              "      <td>@herumeneutic disatu sisi,lu ngajak orang untk...</td>\n",
              "      <td>0</td>\n",
              "      <td>disatu sisilu ngajak orang untk ikut mendukung...</td>\n",
              "    </tr>\n",
              "  </tbody>\n",
              "</table>\n",
              "</div>\n",
              "    <div class=\"colab-df-buttons\">\n",
              "\n",
              "  <div class=\"colab-df-container\">\n",
              "    <button class=\"colab-df-convert\" onclick=\"convertToInteractive('df-5902465e-1054-4252-b3d8-68c8806579d1')\"\n",
              "            title=\"Convert this dataframe to an interactive table.\"\n",
              "            style=\"display:none;\">\n",
              "\n",
              "  <svg xmlns=\"http://www.w3.org/2000/svg\" height=\"24px\" viewBox=\"0 -960 960 960\">\n",
              "    <path d=\"M120-120v-720h720v720H120Zm60-500h600v-160H180v160Zm220 220h160v-160H400v160Zm0 220h160v-160H400v160ZM180-400h160v-160H180v160Zm440 0h160v-160H620v160ZM180-180h160v-160H180v160Zm440 0h160v-160H620v160Z\"/>\n",
              "  </svg>\n",
              "    </button>\n",
              "\n",
              "  <style>\n",
              "    .colab-df-container {\n",
              "      display:flex;\n",
              "      gap: 12px;\n",
              "    }\n",
              "\n",
              "    .colab-df-convert {\n",
              "      background-color: #E8F0FE;\n",
              "      border: none;\n",
              "      border-radius: 50%;\n",
              "      cursor: pointer;\n",
              "      display: none;\n",
              "      fill: #1967D2;\n",
              "      height: 32px;\n",
              "      padding: 0 0 0 0;\n",
              "      width: 32px;\n",
              "    }\n",
              "\n",
              "    .colab-df-convert:hover {\n",
              "      background-color: #E2EBFA;\n",
              "      box-shadow: 0px 1px 2px rgba(60, 64, 67, 0.3), 0px 1px 3px 1px rgba(60, 64, 67, 0.15);\n",
              "      fill: #174EA6;\n",
              "    }\n",
              "\n",
              "    .colab-df-buttons div {\n",
              "      margin-bottom: 4px;\n",
              "    }\n",
              "\n",
              "    [theme=dark] .colab-df-convert {\n",
              "      background-color: #3B4455;\n",
              "      fill: #D2E3FC;\n",
              "    }\n",
              "\n",
              "    [theme=dark] .colab-df-convert:hover {\n",
              "      background-color: #434B5C;\n",
              "      box-shadow: 0px 1px 3px 1px rgba(0, 0, 0, 0.15);\n",
              "      filter: drop-shadow(0px 1px 2px rgba(0, 0, 0, 0.3));\n",
              "      fill: #FFFFFF;\n",
              "    }\n",
              "  </style>\n",
              "\n",
              "    <script>\n",
              "      const buttonEl =\n",
              "        document.querySelector('#df-5902465e-1054-4252-b3d8-68c8806579d1 button.colab-df-convert');\n",
              "      buttonEl.style.display =\n",
              "        google.colab.kernel.accessAllowed ? 'block' : 'none';\n",
              "\n",
              "      async function convertToInteractive(key) {\n",
              "        const element = document.querySelector('#df-5902465e-1054-4252-b3d8-68c8806579d1');\n",
              "        const dataTable =\n",
              "          await google.colab.kernel.invokeFunction('convertToInteractive',\n",
              "                                                    [key], {});\n",
              "        if (!dataTable) return;\n",
              "\n",
              "        const docLinkHtml = 'Like what you see? Visit the ' +\n",
              "          '<a target=\"_blank\" href=https://colab.research.google.com/notebooks/data_table.ipynb>data table notebook</a>'\n",
              "          + ' to learn more about interactive tables.';\n",
              "        element.innerHTML = '';\n",
              "        dataTable['output_type'] = 'display_data';\n",
              "        await google.colab.output.renderOutput(dataTable, element);\n",
              "        const docLink = document.createElement('div');\n",
              "        docLink.innerHTML = docLinkHtml;\n",
              "        element.appendChild(docLink);\n",
              "      }\n",
              "    </script>\n",
              "  </div>\n",
              "\n",
              "\n",
              "<div id=\"df-aef7ec0a-d114-4702-8a45-e4ee9b39d0c9\">\n",
              "  <button class=\"colab-df-quickchart\" onclick=\"quickchart('df-aef7ec0a-d114-4702-8a45-e4ee9b39d0c9')\"\n",
              "            title=\"Suggest charts.\"\n",
              "            style=\"display:none;\">\n",
              "\n",
              "<svg xmlns=\"http://www.w3.org/2000/svg\" height=\"24px\"viewBox=\"0 0 24 24\"\n",
              "     width=\"24px\">\n",
              "    <g>\n",
              "        <path d=\"M19 3H5c-1.1 0-2 .9-2 2v14c0 1.1.9 2 2 2h14c1.1 0 2-.9 2-2V5c0-1.1-.9-2-2-2zM9 17H7v-7h2v7zm4 0h-2V7h2v10zm4 0h-2v-4h2v4z\"/>\n",
              "    </g>\n",
              "</svg>\n",
              "  </button>\n",
              "\n",
              "<style>\n",
              "  .colab-df-quickchart {\n",
              "      --bg-color: #E8F0FE;\n",
              "      --fill-color: #1967D2;\n",
              "      --hover-bg-color: #E2EBFA;\n",
              "      --hover-fill-color: #174EA6;\n",
              "      --disabled-fill-color: #AAA;\n",
              "      --disabled-bg-color: #DDD;\n",
              "  }\n",
              "\n",
              "  [theme=dark] .colab-df-quickchart {\n",
              "      --bg-color: #3B4455;\n",
              "      --fill-color: #D2E3FC;\n",
              "      --hover-bg-color: #434B5C;\n",
              "      --hover-fill-color: #FFFFFF;\n",
              "      --disabled-bg-color: #3B4455;\n",
              "      --disabled-fill-color: #666;\n",
              "  }\n",
              "\n",
              "  .colab-df-quickchart {\n",
              "    background-color: var(--bg-color);\n",
              "    border: none;\n",
              "    border-radius: 50%;\n",
              "    cursor: pointer;\n",
              "    display: none;\n",
              "    fill: var(--fill-color);\n",
              "    height: 32px;\n",
              "    padding: 0;\n",
              "    width: 32px;\n",
              "  }\n",
              "\n",
              "  .colab-df-quickchart:hover {\n",
              "    background-color: var(--hover-bg-color);\n",
              "    box-shadow: 0 1px 2px rgba(60, 64, 67, 0.3), 0 1px 3px 1px rgba(60, 64, 67, 0.15);\n",
              "    fill: var(--button-hover-fill-color);\n",
              "  }\n",
              "\n",
              "  .colab-df-quickchart-complete:disabled,\n",
              "  .colab-df-quickchart-complete:disabled:hover {\n",
              "    background-color: var(--disabled-bg-color);\n",
              "    fill: var(--disabled-fill-color);\n",
              "    box-shadow: none;\n",
              "  }\n",
              "\n",
              "  .colab-df-spinner {\n",
              "    border: 2px solid var(--fill-color);\n",
              "    border-color: transparent;\n",
              "    border-bottom-color: var(--fill-color);\n",
              "    animation:\n",
              "      spin 1s steps(1) infinite;\n",
              "  }\n",
              "\n",
              "  @keyframes spin {\n",
              "    0% {\n",
              "      border-color: transparent;\n",
              "      border-bottom-color: var(--fill-color);\n",
              "      border-left-color: var(--fill-color);\n",
              "    }\n",
              "    20% {\n",
              "      border-color: transparent;\n",
              "      border-left-color: var(--fill-color);\n",
              "      border-top-color: var(--fill-color);\n",
              "    }\n",
              "    30% {\n",
              "      border-color: transparent;\n",
              "      border-left-color: var(--fill-color);\n",
              "      border-top-color: var(--fill-color);\n",
              "      border-right-color: var(--fill-color);\n",
              "    }\n",
              "    40% {\n",
              "      border-color: transparent;\n",
              "      border-right-color: var(--fill-color);\n",
              "      border-top-color: var(--fill-color);\n",
              "    }\n",
              "    60% {\n",
              "      border-color: transparent;\n",
              "      border-right-color: var(--fill-color);\n",
              "    }\n",
              "    80% {\n",
              "      border-color: transparent;\n",
              "      border-right-color: var(--fill-color);\n",
              "      border-bottom-color: var(--fill-color);\n",
              "    }\n",
              "    90% {\n",
              "      border-color: transparent;\n",
              "      border-bottom-color: var(--fill-color);\n",
              "    }\n",
              "  }\n",
              "</style>\n",
              "\n",
              "  <script>\n",
              "    async function quickchart(key) {\n",
              "      const quickchartButtonEl =\n",
              "        document.querySelector('#' + key + ' button');\n",
              "      quickchartButtonEl.disabled = true;  // To prevent multiple clicks.\n",
              "      quickchartButtonEl.classList.add('colab-df-spinner');\n",
              "      try {\n",
              "        const charts = await google.colab.kernel.invokeFunction(\n",
              "            'suggestCharts', [key], {});\n",
              "      } catch (error) {\n",
              "        console.error('Error during call to suggestCharts:', error);\n",
              "      }\n",
              "      quickchartButtonEl.classList.remove('colab-df-spinner');\n",
              "      quickchartButtonEl.classList.add('colab-df-quickchart-complete');\n",
              "    }\n",
              "    (() => {\n",
              "      let quickchartButtonEl =\n",
              "        document.querySelector('#df-aef7ec0a-d114-4702-8a45-e4ee9b39d0c9 button');\n",
              "      quickchartButtonEl.style.display =\n",
              "        google.colab.kernel.accessAllowed ? 'block' : 'none';\n",
              "    })();\n",
              "  </script>\n",
              "</div>\n",
              "    </div>\n",
              "  </div>\n"
            ]
          },
          "metadata": {},
          "execution_count": 13
        }
      ],
      "source": [
        "# append cleaned tweets to the training data\n",
        "df[\"clean_tweet\"] = train_tweet\n",
        "\n",
        "# compare the cleaned and uncleaned tweets\n",
        "df.head(10)"
      ]
    },
    {
      "cell_type": "code",
      "source": [
        "df[df['Label']==0]"
      ],
      "metadata": {
        "id": "sM6Gbh4zXRE2",
        "colab": {
          "base_uri": "https://localhost:8080/",
          "height": 423
        },
        "outputId": "97b4026a-6a51-400d-a77b-bec0ae55c2bf"
      },
      "execution_count": 14,
      "outputs": [
        {
          "output_type": "execute_result",
          "data": {
            "text/plain": [
              "                      Datetime  \\\n",
              "0    2022-05-27 06:04:01+00:00   \n",
              "1    2022-05-27 04:34:08+00:00   \n",
              "2    2022-05-27 04:24:52+00:00   \n",
              "3    2022-05-27 00:50:14+00:00   \n",
              "4    2022-05-26 21:46:38+00:00   \n",
              "...                        ...   \n",
              "1576 2022-03-21 06:12:47+00:00   \n",
              "1577 2022-03-21 06:06:23+00:00   \n",
              "1578 2022-03-21 05:29:57+00:00   \n",
              "1580 2022-03-21 05:13:02+00:00   \n",
              "1581 2022-03-21 05:02:42+00:00   \n",
              "\n",
              "                                                   Text  Label  \\\n",
              "0     Semoga yang benci islam atau sering giring opi...      0   \n",
              "1     @Naollivia @MegaPKeliduan Tenggelamkan sampai ...      0   \n",
              "2     @whyoedee @NUgarislucu Boleh benci dg Islam tp...      0   \n",
              "3      Aku mendukung abang karena papua jg saudara k...      0   \n",
              "4     @dyahwie @frsp_ Buat ngehina lah, dia kan benc...      0   \n",
              "...                                                 ...    ...   \n",
              "1576  @aliefxzn @Gustepra_96 Gausah ngomongin akidah...      0   \n",
              "1577  @Bambang_Budimab @Syarman59 @geloraco Kl benci...      0   \n",
              "1578  @wardoyooioi @tifsembiring Sampeyan yg merasa ...      0   \n",
              "1580  @LindaKa81442002 @Mdy_Asmara1701 Orang yang ng...      0   \n",
              "1581  @jenny_jkt @yaniarsim Tp ama terorisme papua k...      0   \n",
              "\n",
              "                                            clean_tweet  \n",
              "0     semoga yang benci islam atau sering giring opi...  \n",
              "1     tenggelamkan sampai dasar lautan manusia rasis...  \n",
              "2     boleh benci dg islam tp jgn melesetkan kt takb...  \n",
              "3     aku mendukung abang karena papua jg saudara ku...  \n",
              "4                  buat ngehina lah dia kan benci islam  \n",
              "...                                                 ...  \n",
              "1576  gausah ngomongin akidah islam deh lu aja benci...  \n",
              "1577  kl benci islam terus terang ja blg bencong lo ...  \n",
              "1578  sampeyan yg merasa sok plural padahal nol besa...  \n",
              "1580  orang yang ngaku islam seharusnya bangga denga...  \n",
              "1581  tp ama terorisme papua kalian mingkem maka pat...  \n",
              "\n",
              "[1194 rows x 4 columns]"
            ],
            "text/html": [
              "\n",
              "  <div id=\"df-91d2cffc-1249-428a-b64c-517c2a339712\" class=\"colab-df-container\">\n",
              "    <div>\n",
              "<style scoped>\n",
              "    .dataframe tbody tr th:only-of-type {\n",
              "        vertical-align: middle;\n",
              "    }\n",
              "\n",
              "    .dataframe tbody tr th {\n",
              "        vertical-align: top;\n",
              "    }\n",
              "\n",
              "    .dataframe thead th {\n",
              "        text-align: right;\n",
              "    }\n",
              "</style>\n",
              "<table border=\"1\" class=\"dataframe\">\n",
              "  <thead>\n",
              "    <tr style=\"text-align: right;\">\n",
              "      <th></th>\n",
              "      <th>Datetime</th>\n",
              "      <th>Text</th>\n",
              "      <th>Label</th>\n",
              "      <th>clean_tweet</th>\n",
              "    </tr>\n",
              "  </thead>\n",
              "  <tbody>\n",
              "    <tr>\n",
              "      <th>0</th>\n",
              "      <td>2022-05-27 06:04:01+00:00</td>\n",
              "      <td>Semoga yang benci islam atau sering giring opi...</td>\n",
              "      <td>0</td>\n",
              "      <td>semoga yang benci islam atau sering giring opi...</td>\n",
              "    </tr>\n",
              "    <tr>\n",
              "      <th>1</th>\n",
              "      <td>2022-05-27 04:34:08+00:00</td>\n",
              "      <td>@Naollivia @MegaPKeliduan Tenggelamkan sampai ...</td>\n",
              "      <td>0</td>\n",
              "      <td>tenggelamkan sampai dasar lautan manusia rasis...</td>\n",
              "    </tr>\n",
              "    <tr>\n",
              "      <th>2</th>\n",
              "      <td>2022-05-27 04:24:52+00:00</td>\n",
              "      <td>@whyoedee @NUgarislucu Boleh benci dg Islam tp...</td>\n",
              "      <td>0</td>\n",
              "      <td>boleh benci dg islam tp jgn melesetkan kt takb...</td>\n",
              "    </tr>\n",
              "    <tr>\n",
              "      <th>3</th>\n",
              "      <td>2022-05-27 00:50:14+00:00</td>\n",
              "      <td>Aku mendukung abang karena papua jg saudara k...</td>\n",
              "      <td>0</td>\n",
              "      <td>aku mendukung abang karena papua jg saudara ku...</td>\n",
              "    </tr>\n",
              "    <tr>\n",
              "      <th>4</th>\n",
              "      <td>2022-05-26 21:46:38+00:00</td>\n",
              "      <td>@dyahwie @frsp_ Buat ngehina lah, dia kan benc...</td>\n",
              "      <td>0</td>\n",
              "      <td>buat ngehina lah dia kan benci islam</td>\n",
              "    </tr>\n",
              "    <tr>\n",
              "      <th>...</th>\n",
              "      <td>...</td>\n",
              "      <td>...</td>\n",
              "      <td>...</td>\n",
              "      <td>...</td>\n",
              "    </tr>\n",
              "    <tr>\n",
              "      <th>1576</th>\n",
              "      <td>2022-03-21 06:12:47+00:00</td>\n",
              "      <td>@aliefxzn @Gustepra_96 Gausah ngomongin akidah...</td>\n",
              "      <td>0</td>\n",
              "      <td>gausah ngomongin akidah islam deh lu aja benci...</td>\n",
              "    </tr>\n",
              "    <tr>\n",
              "      <th>1577</th>\n",
              "      <td>2022-03-21 06:06:23+00:00</td>\n",
              "      <td>@Bambang_Budimab @Syarman59 @geloraco Kl benci...</td>\n",
              "      <td>0</td>\n",
              "      <td>kl benci islam terus terang ja blg bencong lo ...</td>\n",
              "    </tr>\n",
              "    <tr>\n",
              "      <th>1578</th>\n",
              "      <td>2022-03-21 05:29:57+00:00</td>\n",
              "      <td>@wardoyooioi @tifsembiring Sampeyan yg merasa ...</td>\n",
              "      <td>0</td>\n",
              "      <td>sampeyan yg merasa sok plural padahal nol besa...</td>\n",
              "    </tr>\n",
              "    <tr>\n",
              "      <th>1580</th>\n",
              "      <td>2022-03-21 05:13:02+00:00</td>\n",
              "      <td>@LindaKa81442002 @Mdy_Asmara1701 Orang yang ng...</td>\n",
              "      <td>0</td>\n",
              "      <td>orang yang ngaku islam seharusnya bangga denga...</td>\n",
              "    </tr>\n",
              "    <tr>\n",
              "      <th>1581</th>\n",
              "      <td>2022-03-21 05:02:42+00:00</td>\n",
              "      <td>@jenny_jkt @yaniarsim Tp ama terorisme papua k...</td>\n",
              "      <td>0</td>\n",
              "      <td>tp ama terorisme papua kalian mingkem maka pat...</td>\n",
              "    </tr>\n",
              "  </tbody>\n",
              "</table>\n",
              "<p>1194 rows × 4 columns</p>\n",
              "</div>\n",
              "    <div class=\"colab-df-buttons\">\n",
              "\n",
              "  <div class=\"colab-df-container\">\n",
              "    <button class=\"colab-df-convert\" onclick=\"convertToInteractive('df-91d2cffc-1249-428a-b64c-517c2a339712')\"\n",
              "            title=\"Convert this dataframe to an interactive table.\"\n",
              "            style=\"display:none;\">\n",
              "\n",
              "  <svg xmlns=\"http://www.w3.org/2000/svg\" height=\"24px\" viewBox=\"0 -960 960 960\">\n",
              "    <path d=\"M120-120v-720h720v720H120Zm60-500h600v-160H180v160Zm220 220h160v-160H400v160Zm0 220h160v-160H400v160ZM180-400h160v-160H180v160Zm440 0h160v-160H620v160ZM180-180h160v-160H180v160Zm440 0h160v-160H620v160Z\"/>\n",
              "  </svg>\n",
              "    </button>\n",
              "\n",
              "  <style>\n",
              "    .colab-df-container {\n",
              "      display:flex;\n",
              "      gap: 12px;\n",
              "    }\n",
              "\n",
              "    .colab-df-convert {\n",
              "      background-color: #E8F0FE;\n",
              "      border: none;\n",
              "      border-radius: 50%;\n",
              "      cursor: pointer;\n",
              "      display: none;\n",
              "      fill: #1967D2;\n",
              "      height: 32px;\n",
              "      padding: 0 0 0 0;\n",
              "      width: 32px;\n",
              "    }\n",
              "\n",
              "    .colab-df-convert:hover {\n",
              "      background-color: #E2EBFA;\n",
              "      box-shadow: 0px 1px 2px rgba(60, 64, 67, 0.3), 0px 1px 3px 1px rgba(60, 64, 67, 0.15);\n",
              "      fill: #174EA6;\n",
              "    }\n",
              "\n",
              "    .colab-df-buttons div {\n",
              "      margin-bottom: 4px;\n",
              "    }\n",
              "\n",
              "    [theme=dark] .colab-df-convert {\n",
              "      background-color: #3B4455;\n",
              "      fill: #D2E3FC;\n",
              "    }\n",
              "\n",
              "    [theme=dark] .colab-df-convert:hover {\n",
              "      background-color: #434B5C;\n",
              "      box-shadow: 0px 1px 3px 1px rgba(0, 0, 0, 0.15);\n",
              "      filter: drop-shadow(0px 1px 2px rgba(0, 0, 0, 0.3));\n",
              "      fill: #FFFFFF;\n",
              "    }\n",
              "  </style>\n",
              "\n",
              "    <script>\n",
              "      const buttonEl =\n",
              "        document.querySelector('#df-91d2cffc-1249-428a-b64c-517c2a339712 button.colab-df-convert');\n",
              "      buttonEl.style.display =\n",
              "        google.colab.kernel.accessAllowed ? 'block' : 'none';\n",
              "\n",
              "      async function convertToInteractive(key) {\n",
              "        const element = document.querySelector('#df-91d2cffc-1249-428a-b64c-517c2a339712');\n",
              "        const dataTable =\n",
              "          await google.colab.kernel.invokeFunction('convertToInteractive',\n",
              "                                                    [key], {});\n",
              "        if (!dataTable) return;\n",
              "\n",
              "        const docLinkHtml = 'Like what you see? Visit the ' +\n",
              "          '<a target=\"_blank\" href=https://colab.research.google.com/notebooks/data_table.ipynb>data table notebook</a>'\n",
              "          + ' to learn more about interactive tables.';\n",
              "        element.innerHTML = '';\n",
              "        dataTable['output_type'] = 'display_data';\n",
              "        await google.colab.output.renderOutput(dataTable, element);\n",
              "        const docLink = document.createElement('div');\n",
              "        docLink.innerHTML = docLinkHtml;\n",
              "        element.appendChild(docLink);\n",
              "      }\n",
              "    </script>\n",
              "  </div>\n",
              "\n",
              "\n",
              "<div id=\"df-aea42863-ebfc-46c6-a1fd-d951f0c34f2a\">\n",
              "  <button class=\"colab-df-quickchart\" onclick=\"quickchart('df-aea42863-ebfc-46c6-a1fd-d951f0c34f2a')\"\n",
              "            title=\"Suggest charts.\"\n",
              "            style=\"display:none;\">\n",
              "\n",
              "<svg xmlns=\"http://www.w3.org/2000/svg\" height=\"24px\"viewBox=\"0 0 24 24\"\n",
              "     width=\"24px\">\n",
              "    <g>\n",
              "        <path d=\"M19 3H5c-1.1 0-2 .9-2 2v14c0 1.1.9 2 2 2h14c1.1 0 2-.9 2-2V5c0-1.1-.9-2-2-2zM9 17H7v-7h2v7zm4 0h-2V7h2v10zm4 0h-2v-4h2v4z\"/>\n",
              "    </g>\n",
              "</svg>\n",
              "  </button>\n",
              "\n",
              "<style>\n",
              "  .colab-df-quickchart {\n",
              "      --bg-color: #E8F0FE;\n",
              "      --fill-color: #1967D2;\n",
              "      --hover-bg-color: #E2EBFA;\n",
              "      --hover-fill-color: #174EA6;\n",
              "      --disabled-fill-color: #AAA;\n",
              "      --disabled-bg-color: #DDD;\n",
              "  }\n",
              "\n",
              "  [theme=dark] .colab-df-quickchart {\n",
              "      --bg-color: #3B4455;\n",
              "      --fill-color: #D2E3FC;\n",
              "      --hover-bg-color: #434B5C;\n",
              "      --hover-fill-color: #FFFFFF;\n",
              "      --disabled-bg-color: #3B4455;\n",
              "      --disabled-fill-color: #666;\n",
              "  }\n",
              "\n",
              "  .colab-df-quickchart {\n",
              "    background-color: var(--bg-color);\n",
              "    border: none;\n",
              "    border-radius: 50%;\n",
              "    cursor: pointer;\n",
              "    display: none;\n",
              "    fill: var(--fill-color);\n",
              "    height: 32px;\n",
              "    padding: 0;\n",
              "    width: 32px;\n",
              "  }\n",
              "\n",
              "  .colab-df-quickchart:hover {\n",
              "    background-color: var(--hover-bg-color);\n",
              "    box-shadow: 0 1px 2px rgba(60, 64, 67, 0.3), 0 1px 3px 1px rgba(60, 64, 67, 0.15);\n",
              "    fill: var(--button-hover-fill-color);\n",
              "  }\n",
              "\n",
              "  .colab-df-quickchart-complete:disabled,\n",
              "  .colab-df-quickchart-complete:disabled:hover {\n",
              "    background-color: var(--disabled-bg-color);\n",
              "    fill: var(--disabled-fill-color);\n",
              "    box-shadow: none;\n",
              "  }\n",
              "\n",
              "  .colab-df-spinner {\n",
              "    border: 2px solid var(--fill-color);\n",
              "    border-color: transparent;\n",
              "    border-bottom-color: var(--fill-color);\n",
              "    animation:\n",
              "      spin 1s steps(1) infinite;\n",
              "  }\n",
              "\n",
              "  @keyframes spin {\n",
              "    0% {\n",
              "      border-color: transparent;\n",
              "      border-bottom-color: var(--fill-color);\n",
              "      border-left-color: var(--fill-color);\n",
              "    }\n",
              "    20% {\n",
              "      border-color: transparent;\n",
              "      border-left-color: var(--fill-color);\n",
              "      border-top-color: var(--fill-color);\n",
              "    }\n",
              "    30% {\n",
              "      border-color: transparent;\n",
              "      border-left-color: var(--fill-color);\n",
              "      border-top-color: var(--fill-color);\n",
              "      border-right-color: var(--fill-color);\n",
              "    }\n",
              "    40% {\n",
              "      border-color: transparent;\n",
              "      border-right-color: var(--fill-color);\n",
              "      border-top-color: var(--fill-color);\n",
              "    }\n",
              "    60% {\n",
              "      border-color: transparent;\n",
              "      border-right-color: var(--fill-color);\n",
              "    }\n",
              "    80% {\n",
              "      border-color: transparent;\n",
              "      border-right-color: var(--fill-color);\n",
              "      border-bottom-color: var(--fill-color);\n",
              "    }\n",
              "    90% {\n",
              "      border-color: transparent;\n",
              "      border-bottom-color: var(--fill-color);\n",
              "    }\n",
              "  }\n",
              "</style>\n",
              "\n",
              "  <script>\n",
              "    async function quickchart(key) {\n",
              "      const quickchartButtonEl =\n",
              "        document.querySelector('#' + key + ' button');\n",
              "      quickchartButtonEl.disabled = true;  // To prevent multiple clicks.\n",
              "      quickchartButtonEl.classList.add('colab-df-spinner');\n",
              "      try {\n",
              "        const charts = await google.colab.kernel.invokeFunction(\n",
              "            'suggestCharts', [key], {});\n",
              "      } catch (error) {\n",
              "        console.error('Error during call to suggestCharts:', error);\n",
              "      }\n",
              "      quickchartButtonEl.classList.remove('colab-df-spinner');\n",
              "      quickchartButtonEl.classList.add('colab-df-quickchart-complete');\n",
              "    }\n",
              "    (() => {\n",
              "      let quickchartButtonEl =\n",
              "        document.querySelector('#df-aea42863-ebfc-46c6-a1fd-d951f0c34f2a button');\n",
              "      quickchartButtonEl.style.display =\n",
              "        google.colab.kernel.accessAllowed ? 'block' : 'none';\n",
              "    })();\n",
              "  </script>\n",
              "</div>\n",
              "    </div>\n",
              "  </div>\n"
            ]
          },
          "metadata": {},
          "execution_count": 14
        }
      ]
    },
    {
      "cell_type": "code",
      "source": [
        "df['clean_tweet'].to_excel('sentiment.xlsx')"
      ],
      "metadata": {
        "id": "Q_jjRjZfU_VH"
      },
      "execution_count": 15,
      "outputs": []
    },
    {
      "cell_type": "code",
      "execution_count": null,
      "metadata": {
        "id": "0_dHhhn2bHYL"
      },
      "outputs": [],
      "source": [
        "#Handling imbalance dataset\n",
        "# from imblearn.over_sampling import SMOTE\n",
        "# smote = SMOTE()\n",
        "# X, y = smote.fit_resample(df['clean_tweet'], df['Label'])"
      ]
    },
    {
      "cell_type": "markdown",
      "metadata": {
        "id": "QNJ7n2jXbzwl"
      },
      "source": [
        "# Test and Train split\n"
      ]
    },
    {
      "cell_type": "code",
      "execution_count": 16,
      "metadata": {
        "id": "LQJjcE_Tb4JU"
      },
      "outputs": [],
      "source": [
        "from sklearn.model_selection import train_test_split\n",
        "\n",
        "# extract the labels from the train data\n",
        "y = df.Label.values\n",
        "\n",
        "# use 80% for the training and 20% for the test\n",
        "x_train, x_test, y_train, y_test = train_test_split(df.clean_tweet.values, y,\n",
        "                                                    stratify=y,\n",
        "                                                    random_state=1,\n",
        "                                                    test_size=0.4, shuffle=True)"
      ]
    },
    {
      "cell_type": "markdown",
      "metadata": {
        "id": "EP0vIgrcdMSM"
      },
      "source": [
        "# Vectorize tweets using CountVectorizer"
      ]
    },
    {
      "cell_type": "code",
      "source": [
        "!git clone https://github.com/Braincore-id/IndoTWEES.git"
      ],
      "metadata": {
        "colab": {
          "base_uri": "https://localhost:8080/"
        },
        "id": "69Cd3CxYJPb3",
        "outputId": "8a4ca4fd-e7dc-48b9-fea0-4009de9961d1"
      },
      "execution_count": 21,
      "outputs": [
        {
          "output_type": "stream",
          "name": "stdout",
          "text": [
            "Cloning into 'IndoTWEES'...\n",
            "remote: Enumerating objects: 104, done.\u001b[K\n",
            "remote: Counting objects: 100% (104/104), done.\u001b[K\n",
            "remote: Compressing objects: 100% (89/89), done.\u001b[K\n",
            "remote: Total 104 (delta 46), reused 45 (delta 12), pack-reused 0\u001b[K\n",
            "Receiving objects: 100% (104/104), 114.16 KiB | 2.85 MiB/s, done.\n",
            "Resolving deltas: 100% (46/46), done.\n"
          ]
        }
      ]
    },
    {
      "cell_type": "code",
      "source": [
        "import nltk\n",
        "nltk.download('stopwords')\n",
        "from nltk.corpus import stopwords\n",
        "\n",
        "nltk_stop_words = set(stopwords.words('indonesian'))\n",
        "len(nltk_stop_words)"
      ],
      "metadata": {
        "colab": {
          "base_uri": "https://localhost:8080/"
        },
        "id": "jjLK5HuvKmst",
        "outputId": "fc34d49c-0bee-4775-98c1-11e7fc1172a7"
      },
      "execution_count": 26,
      "outputs": [
        {
          "output_type": "stream",
          "name": "stderr",
          "text": [
            "[nltk_data] Downloading package stopwords to /root/nltk_data...\n",
            "[nltk_data]   Package stopwords is already up-to-date!\n"
          ]
        },
        {
          "output_type": "execute_result",
          "data": {
            "text/plain": [
              "757"
            ]
          },
          "metadata": {},
          "execution_count": 26
        }
      ]
    },
    {
      "cell_type": "code",
      "source": [
        "data = 'https://raw.githubusercontent.com/Braincore-id/IndoTWEEST/main/stopwords_twitter.csv'\n",
        "\n",
        "df_stopwords = pd.read_csv(data, names=['stopword'])\n",
        "df_stopwords = df_stopwords.sort_values(by=\"stopword\", ascending=True)\n",
        "df_stopwords.reset_index(drop=True, inplace=True)"
      ],
      "metadata": {
        "id": "2aEXrD9ZK1iF"
      },
      "execution_count": 27,
      "outputs": []
    },
    {
      "cell_type": "code",
      "source": [
        "# Daftar stop words dalam bahasa Indonesia\n",
        "indonesian_stop_words = ['dan', 'atau', 'adalah', 'saya','ya', 'iya', 'tak',\n",
        "                         'aja', 'mau', 'jadi', 'jangan', 'pak', 'main', 'bukan',\n",
        "                         'makin', 'nya', 'sih', 'orang']"
      ],
      "metadata": {
        "id": "tnuF3hxkGq8T"
      },
      "execution_count": 28,
      "outputs": []
    },
    {
      "cell_type": "code",
      "source": [
        "# Gabungkan semua daftar stop words menjadi satu set\n",
        "stop_words = set(indonesian_stop_words) | nltk_stop_words | set(df_stopwords['stopword'])\n",
        "\n",
        "# Sekarang, all_stop_words berisi semua stop words dari berbagai sumber\n",
        "print(len(stop_words))  # Jumlah total stop words"
      ],
      "metadata": {
        "colab": {
          "base_uri": "https://localhost:8080/"
        },
        "id": "RJ4nq7v6LnlN",
        "outputId": "3a3d5a34-ed6a-424b-e6a3-4eafa8aa4370"
      },
      "execution_count": 29,
      "outputs": [
        {
          "output_type": "stream",
          "name": "stdout",
          "text": [
            "1039\n"
          ]
        }
      ]
    },
    {
      "cell_type": "code",
      "execution_count": 30,
      "metadata": {
        "id": "reQP8v7Gb36g"
      },
      "outputs": [],
      "source": [
        "from sklearn.feature_extraction.text import CountVectorizer\n",
        "\n",
        "# vectorize tweets for model building\n",
        "vectorizer = CountVectorizer(binary=True, stop_words=indonesian_stop_words)\n",
        "\n",
        "# learn a vocabulary dictionary of all tokens in the raw documents\n",
        "vectorizer.fit(list(x_train) + list(x_test))\n",
        "\n",
        "# transform documents to document-term matrix\n",
        "x_train_vec = vectorizer.transform(x_train)\n",
        "x_test_vec = vectorizer.transform(x_test)\n"
      ]
    },
    {
      "cell_type": "markdown",
      "metadata": {
        "id": "nv02BKQ-ee_m"
      },
      "source": [
        "# Model building"
      ]
    },
    {
      "cell_type": "markdown",
      "metadata": {
        "id": "it_BrO5qehpR"
      },
      "source": [
        "Apply Support Vetor Classifier (SVC)"
      ]
    },
    {
      "cell_type": "code",
      "execution_count": 31,
      "metadata": {
        "id": "VEXBqGBGeeG6"
      },
      "outputs": [],
      "source": [
        "from sklearn import svm\n",
        "# classify using support vector classifier\n",
        "svm = svm.SVC(kernel = 'linear', probability=True)\n",
        "\n",
        "# fit the SVC model based on the given training data\n",
        "prob = svm.fit(x_train_vec, y_train).predict_proba(x_test_vec)\n",
        "\n",
        "# perform classification and prediction on samples in x_test\n",
        "y_pred_svm = svm.predict(x_test_vec)"
      ]
    },
    {
      "cell_type": "markdown",
      "metadata": {
        "id": "8SJ5l9iehjBT"
      },
      "source": [
        "# Accuracy score for SVC\n"
      ]
    },
    {
      "cell_type": "code",
      "execution_count": 32,
      "metadata": {
        "id": "lERS4fXwea7B",
        "colab": {
          "base_uri": "https://localhost:8080/"
        },
        "outputId": "883a79fe-e9ad-4f4b-afcb-ec96ee917f10"
      },
      "outputs": [
        {
          "output_type": "stream",
          "name": "stdout",
          "text": [
            "Accuracy score for SVC is:  69.826224328594 %\n"
          ]
        }
      ],
      "source": [
        "from sklearn.metrics import accuracy_score\n",
        "print(\"Accuracy score for SVC is: \", accuracy_score(y_test, y_pred_svm) * 100, '%')"
      ]
    },
    {
      "cell_type": "markdown",
      "source": [
        "# Evaluation Report"
      ],
      "metadata": {
        "id": "idp1fnyshT8x"
      }
    },
    {
      "cell_type": "code",
      "source": [
        "from sklearn.metrics import confusion_matrix, classification_report\n",
        "y_train_pred = svm.fit(x_train_vec, y_train).predict(x_train_vec)\n",
        "y_test_pred = svm.fit(x_train_vec, y_train).predict(x_test_vec)\n",
        "\n",
        "print('RANDOM FOREST TRAINING RESULT:')\n",
        "print('======================================================')\n",
        "print('Accuracy:', svm.fit(x_train_vec, y_train).score(x_train_vec, y_train))\n",
        "print('======================================================')\n",
        "print('Classification Report --------------------------------')\n",
        "print(classification_report(y_train, y_train_pred))\n",
        "print('======================================================')\n",
        "print('Confussion Matrix ------------------------------------')\n",
        "print(confusion_matrix(y_train, y_train_pred))\n",
        "\n",
        "print('\\n======================================================')\n",
        "\n",
        "print('\\n RANDOM FOREST TESTING RESULT:')\n",
        "print('======================================================')\n",
        "print('Accuracy:', svm.fit(x_train_vec, y_train).score(x_test_vec, y_test))\n",
        "print('======================================================')\n",
        "print('Classification Report --------------------------------')\n",
        "print(classification_report(y_test, y_test_pred))\n",
        "print('======================================================')\n",
        "print('Confussion Matrix ------------------------------------')\n",
        "print(confusion_matrix(y_test, y_test_pred))"
      ],
      "metadata": {
        "id": "pD6SQ2lxhSzV",
        "colab": {
          "base_uri": "https://localhost:8080/"
        },
        "outputId": "0475be86-ec1a-43f1-93a0-285e5815d821"
      },
      "execution_count": 33,
      "outputs": [
        {
          "output_type": "stream",
          "name": "stdout",
          "text": [
            "RANDOM FOREST TRAINING RESULT:\n",
            "======================================================\n",
            "Accuracy: 0.9978925184404637\n",
            "======================================================\n",
            "Classification Report --------------------------------\n",
            "              precision    recall  f1-score   support\n",
            "\n",
            "           0       1.00      1.00      1.00       716\n",
            "           1       1.00      1.00      1.00       233\n",
            "\n",
            "    accuracy                           1.00       949\n",
            "   macro avg       1.00      1.00      1.00       949\n",
            "weighted avg       1.00      1.00      1.00       949\n",
            "\n",
            "======================================================\n",
            "Confussion Matrix ------------------------------------\n",
            "[[715   1]\n",
            " [  1 232]]\n",
            "\n",
            "======================================================\n",
            "\n",
            " RANDOM FOREST TESTING RESULT:\n",
            "======================================================\n",
            "Accuracy: 0.69826224328594\n",
            "======================================================\n",
            "Classification Report --------------------------------\n",
            "              precision    recall  f1-score   support\n",
            "\n",
            "           0       0.78      0.83      0.81       478\n",
            "           1       0.35      0.28      0.31       155\n",
            "\n",
            "    accuracy                           0.70       633\n",
            "   macro avg       0.57      0.56      0.56       633\n",
            "weighted avg       0.68      0.70      0.69       633\n",
            "\n",
            "======================================================\n",
            "Confussion Matrix ------------------------------------\n",
            "[[399  79]\n",
            " [112  43]]\n"
          ]
        }
      ]
    },
    {
      "cell_type": "markdown",
      "source": [
        "#2nd Trial"
      ],
      "metadata": {
        "id": "WLDb6r-Sir6a"
      }
    },
    {
      "cell_type": "code",
      "source": [
        "from sklearn.feature_extraction.text import CountVectorizer\n",
        "from spacy.lang.id.stop_words import STOP_WORDS\n",
        "\n",
        "# vectorize tweets for model building\n",
        "vectorizer = CountVectorizer(binary=True, stop_words=indonesian_stop_words)\n",
        "\n",
        "# learn a vocabulary dictionary of all tokens in the raw documents\n",
        "vectorizer.fit(df['clean_tweet'].values)\n",
        "\n",
        "# transform documents to document-term matrix\n",
        "x_vec = vectorizer.transform(df['clean_tweet'].values)"
      ],
      "metadata": {
        "id": "I_hn4rYqMiwk"
      },
      "execution_count": 37,
      "outputs": []
    },
    {
      "cell_type": "code",
      "source": [
        "#Handling imbalance dataset\n",
        "from imblearn.over_sampling import SMOTE\n",
        "smote = SMOTE()\n",
        "X, y = smote.fit_resample(x_vec, df['Label'])"
      ],
      "metadata": {
        "id": "ziEO-d9iMHqu"
      },
      "execution_count": 38,
      "outputs": []
    },
    {
      "cell_type": "code",
      "source": [
        "from sklearn.model_selection import train_test_split\n",
        "\n",
        "# use 80% for the training and 20% for the test\n",
        "x_train, x_test, y_train, y_test = train_test_split(X, y,\n",
        "                                                    stratify=y,\n",
        "                                                    random_state=1,\n",
        "                                                    test_size=0.2, shuffle=True)"
      ],
      "metadata": {
        "id": "9r7QVpaujmDh"
      },
      "execution_count": 39,
      "outputs": []
    },
    {
      "cell_type": "code",
      "source": [
        "from sklearn import svm\n",
        "# classify using support vector classifier\n",
        "svm = svm.SVC(C=1, gamma=0.1, kernel='rbf', probability=True)\n",
        "\n",
        "# fit the SVC model based on the given training data\n",
        "prob = svm.fit(x_train, y_train)\n",
        "\n",
        "# perform classification and prediction on samples in x_test\n",
        "y_pred_svm = svm.predict(x_test)"
      ],
      "metadata": {
        "id": "uCSkH3LSjwJj"
      },
      "execution_count": 40,
      "outputs": []
    },
    {
      "cell_type": "code",
      "source": [
        "from sklearn.metrics import accuracy_score\n",
        "print(\"Accuracy score for SVC is: \", accuracy_score(y_test, y_pred_svm) * 100, '%')"
      ],
      "metadata": {
        "id": "R3D40VtPj2Kc",
        "colab": {
          "base_uri": "https://localhost:8080/"
        },
        "outputId": "4697cdb5-f8af-4e18-f694-9e3ab75f0ab8"
      },
      "execution_count": 41,
      "outputs": [
        {
          "output_type": "stream",
          "name": "stdout",
          "text": [
            "Accuracy score for SVC is:  79.07949790794979 %\n"
          ]
        }
      ]
    },
    {
      "cell_type": "code",
      "source": [
        "from sklearn.metrics import confusion_matrix, classification_report\n",
        "y_train_pred = svm.fit(x_train, y_train).predict(x_train)\n",
        "y_test_pred = svm.fit(x_train, y_train).predict(x_test)\n",
        "\n",
        "print('SUPPORT VECTOR MACHINE TRAINING RESULT:')\n",
        "print('======================================================')\n",
        "print('Accuracy:', svm.fit(x_train, y_train).score(x_train, y_train))\n",
        "print('======================================================')\n",
        "print('Classification Report --------------------------------')\n",
        "print(classification_report(y_train, y_train_pred))\n",
        "print('======================================================')\n",
        "print('Confussion Matrix ------------------------------------')\n",
        "print(confusion_matrix(y_train, y_train_pred))\n",
        "\n",
        "print('\\n======================================================')\n",
        "\n",
        "print('\\n SUPPORT VECTOR MACHINE TESTING RESULT:')\n",
        "print('======================================================')\n",
        "print('Accuracy:', svm.fit(x_train, y_train).score(x_test, y_test))\n",
        "print('======================================================')\n",
        "print('Classification Report --------------------------------')\n",
        "print(classification_report(y_test, y_test_pred))\n",
        "print('======================================================')\n",
        "print('Confussion Matrix ------------------------------------')\n",
        "print(confusion_matrix(y_test, y_test_pred))"
      ],
      "metadata": {
        "id": "Wo4HtefWj6_h",
        "colab": {
          "base_uri": "https://localhost:8080/"
        },
        "outputId": "02cbc560-fdfa-43f5-9b39-d66efd7955cc"
      },
      "execution_count": 42,
      "outputs": [
        {
          "output_type": "stream",
          "name": "stdout",
          "text": [
            "SUPPORT VECTOR MACHINE TRAINING RESULT:\n",
            "======================================================\n",
            "Accuracy: 0.9696335078534032\n",
            "======================================================\n",
            "Classification Report --------------------------------\n",
            "              precision    recall  f1-score   support\n",
            "\n",
            "           0       0.98      0.96      0.97       955\n",
            "           1       0.96      0.98      0.97       955\n",
            "\n",
            "    accuracy                           0.97      1910\n",
            "   macro avg       0.97      0.97      0.97      1910\n",
            "weighted avg       0.97      0.97      0.97      1910\n",
            "\n",
            "======================================================\n",
            "Confussion Matrix ------------------------------------\n",
            "[[913  42]\n",
            " [ 16 939]]\n",
            "\n",
            "======================================================\n",
            "\n",
            " SUPPORT VECTOR MACHINE TESTING RESULT:\n",
            "======================================================\n",
            "Accuracy: 0.7907949790794979\n",
            "======================================================\n",
            "Classification Report --------------------------------\n",
            "              precision    recall  f1-score   support\n",
            "\n",
            "           0       0.75      0.88      0.81       239\n",
            "           1       0.85      0.70      0.77       239\n",
            "\n",
            "    accuracy                           0.79       478\n",
            "   macro avg       0.80      0.79      0.79       478\n",
            "weighted avg       0.80      0.79      0.79       478\n",
            "\n",
            "======================================================\n",
            "Confussion Matrix ------------------------------------\n",
            "[[210  29]\n",
            " [ 71 168]]\n"
          ]
        }
      ]
    },
    {
      "cell_type": "markdown",
      "source": [
        "#Hyper-Tuning"
      ],
      "metadata": {
        "id": "W7QA_M2EwikB"
      }
    },
    {
      "cell_type": "code",
      "source": [
        "from sklearn.model_selection import GridSearchCV\n",
        "from sklearn.metrics import classification_report\n",
        "from sklearn.svm import SVC\n",
        "\n",
        "\n",
        "tuned_parameters = [{'kernel': ['linear', 'poly', 'rbf', 'sigmoid'],\n",
        "                     'C': [0.5, 1],\n",
        "                     'gamma': [0.1, 0.01],\n",
        "                     'probability':[True, False]}\n",
        "                   ]\n",
        "\n",
        "clf = GridSearchCV(SVC(), tuned_parameters, scoring='accuracy')\n",
        "clf.fit(x_test, y_test)\n",
        "\n",
        "\n",
        "print(\"Best parameters set found on development set:\\n\")\n",
        "print(clf.best_params_)\n",
        "print(\"\\nGrid scores on development set:\\n\")\n",
        "means = clf.cv_results_['mean_test_score']\n",
        "stds = clf.cv_results_['std_test_score']\n",
        "for mean, std, params in zip(means, stds, clf.cv_results_['params']):\n",
        "    print(\"%0.3f (+/-%0.03f) for %r\"\n",
        "          % (mean, std * 2, params))\n",
        "\n",
        "print(\"\\nDetailed classification report:\\n\")\n",
        "print(\"The model is trained on the full development set.\")\n",
        "print(\"The scores are computed on the full evaluation set.\")\n",
        "\n",
        "y_true, y_pred = y_test, clf.predict(x_test)\n",
        "\n",
        "print(classification_report(y_true, y_pred))"
      ],
      "metadata": {
        "id": "kraAMC-u0ZY8",
        "colab": {
          "base_uri": "https://localhost:8080/"
        },
        "outputId": "91f6b28c-1b85-412c-dfca-94fb951f9a2d"
      },
      "execution_count": 43,
      "outputs": [
        {
          "output_type": "stream",
          "name": "stdout",
          "text": [
            "Best parameters set found on development set:\n",
            "\n",
            "{'C': 0.5, 'gamma': 0.1, 'kernel': 'rbf', 'probability': True}\n",
            "\n",
            "Grid scores on development set:\n",
            "\n",
            "0.667 (+/-0.106) for {'C': 0.5, 'gamma': 0.1, 'kernel': 'linear', 'probability': True}\n",
            "0.667 (+/-0.106) for {'C': 0.5, 'gamma': 0.1, 'kernel': 'linear', 'probability': False}\n",
            "0.508 (+/-0.040) for {'C': 0.5, 'gamma': 0.1, 'kernel': 'poly', 'probability': True}\n",
            "0.508 (+/-0.040) for {'C': 0.5, 'gamma': 0.1, 'kernel': 'poly', 'probability': False}\n",
            "0.782 (+/-0.125) for {'C': 0.5, 'gamma': 0.1, 'kernel': 'rbf', 'probability': True}\n",
            "0.782 (+/-0.125) for {'C': 0.5, 'gamma': 0.1, 'kernel': 'rbf', 'probability': False}\n",
            "0.653 (+/-0.136) for {'C': 0.5, 'gamma': 0.1, 'kernel': 'sigmoid', 'probability': True}\n",
            "0.653 (+/-0.136) for {'C': 0.5, 'gamma': 0.1, 'kernel': 'sigmoid', 'probability': False}\n",
            "0.667 (+/-0.106) for {'C': 0.5, 'gamma': 0.01, 'kernel': 'linear', 'probability': True}\n",
            "0.667 (+/-0.106) for {'C': 0.5, 'gamma': 0.01, 'kernel': 'linear', 'probability': False}\n",
            "0.637 (+/-0.241) for {'C': 0.5, 'gamma': 0.01, 'kernel': 'poly', 'probability': True}\n",
            "0.637 (+/-0.241) for {'C': 0.5, 'gamma': 0.01, 'kernel': 'poly', 'probability': False}\n",
            "0.692 (+/-0.115) for {'C': 0.5, 'gamma': 0.01, 'kernel': 'rbf', 'probability': True}\n",
            "0.692 (+/-0.115) for {'C': 0.5, 'gamma': 0.01, 'kernel': 'rbf', 'probability': False}\n",
            "0.558 (+/-0.109) for {'C': 0.5, 'gamma': 0.01, 'kernel': 'sigmoid', 'probability': True}\n",
            "0.558 (+/-0.109) for {'C': 0.5, 'gamma': 0.01, 'kernel': 'sigmoid', 'probability': False}\n",
            "0.661 (+/-0.097) for {'C': 1, 'gamma': 0.1, 'kernel': 'linear', 'probability': True}\n",
            "0.661 (+/-0.097) for {'C': 1, 'gamma': 0.1, 'kernel': 'linear', 'probability': False}\n",
            "0.515 (+/-0.043) for {'C': 1, 'gamma': 0.1, 'kernel': 'poly', 'probability': True}\n",
            "0.515 (+/-0.043) for {'C': 1, 'gamma': 0.1, 'kernel': 'poly', 'probability': False}\n",
            "0.770 (+/-0.139) for {'C': 1, 'gamma': 0.1, 'kernel': 'rbf', 'probability': True}\n",
            "0.770 (+/-0.139) for {'C': 1, 'gamma': 0.1, 'kernel': 'rbf', 'probability': False}\n",
            "0.663 (+/-0.153) for {'C': 1, 'gamma': 0.1, 'kernel': 'sigmoid', 'probability': True}\n",
            "0.663 (+/-0.153) for {'C': 1, 'gamma': 0.1, 'kernel': 'sigmoid', 'probability': False}\n",
            "0.661 (+/-0.097) for {'C': 1, 'gamma': 0.01, 'kernel': 'linear', 'probability': True}\n",
            "0.661 (+/-0.097) for {'C': 1, 'gamma': 0.01, 'kernel': 'linear', 'probability': False}\n",
            "0.637 (+/-0.241) for {'C': 1, 'gamma': 0.01, 'kernel': 'poly', 'probability': True}\n",
            "0.637 (+/-0.241) for {'C': 1, 'gamma': 0.01, 'kernel': 'poly', 'probability': False}\n",
            "0.713 (+/-0.134) for {'C': 1, 'gamma': 0.01, 'kernel': 'rbf', 'probability': True}\n",
            "0.713 (+/-0.134) for {'C': 1, 'gamma': 0.01, 'kernel': 'rbf', 'probability': False}\n",
            "0.586 (+/-0.068) for {'C': 1, 'gamma': 0.01, 'kernel': 'sigmoid', 'probability': True}\n",
            "0.586 (+/-0.068) for {'C': 1, 'gamma': 0.01, 'kernel': 'sigmoid', 'probability': False}\n",
            "\n",
            "Detailed classification report:\n",
            "\n",
            "The model is trained on the full development set.\n",
            "The scores are computed on the full evaluation set.\n",
            "              precision    recall  f1-score   support\n",
            "\n",
            "           0       0.78      0.91      0.84       239\n",
            "           1       0.90      0.75      0.82       239\n",
            "\n",
            "    accuracy                           0.83       478\n",
            "   macro avg       0.84      0.83      0.83       478\n",
            "weighted avg       0.84      0.83      0.83       478\n",
            "\n"
          ]
        }
      ]
    },
    {
      "cell_type": "markdown",
      "source": [
        "#Another model"
      ],
      "metadata": {
        "id": "PHldB36eYMNr"
      }
    },
    {
      "cell_type": "code",
      "source": [
        "from sklearn.feature_extraction.text import CountVectorizer\n",
        "count_vect = CountVectorizer(binary=True, stop_words=STOP_WORDS)\n",
        "X_train_counts = count_vect.fit_transform(list(x_train) + list(x_test))\n",
        "X_train_counts.shape"
      ],
      "metadata": {
        "id": "FPXrNS_YYEeH"
      },
      "execution_count": null,
      "outputs": []
    },
    {
      "cell_type": "code",
      "source": [
        "from sklearn.feature_extraction.text import TfidfTransformer\n",
        "tf_transformer = TfidfTransformer(use_idf=False).fit(X_train_counts)\n",
        "X_train_tf = tf_transformer.transform(X_train_counts)\n",
        "X_train_tf.shape"
      ],
      "metadata": {
        "id": "YI9mM-RqYqXW"
      },
      "execution_count": null,
      "outputs": []
    },
    {
      "cell_type": "code",
      "source": [
        "tfidf_transformer = TfidfTransformer()\n",
        "X_train_tfidf = tfidf_transformer.fit_transform(X_train_counts)\n",
        "X_train_tfidf.shape"
      ],
      "metadata": {
        "id": "H_PnljXQjL81"
      },
      "execution_count": null,
      "outputs": []
    },
    {
      "cell_type": "code",
      "source": [
        "X_train_tfidf"
      ],
      "metadata": {
        "id": "r9kaLEb5jYNI"
      },
      "execution_count": null,
      "outputs": []
    },
    {
      "cell_type": "code",
      "source": [
        "from sklearn.pipeline import Pipeline\n",
        "from sklearn.linear_model import SGDClassifier\n",
        "text_clf = Pipeline([\n",
        "     ('vect', CountVectorizer()),\n",
        "     ('tfidf', TfidfTransformer()),\n",
        "     ('clf', SGDClassifier(loss='hinge', penalty='l2',\n",
        "                           alpha=1e-3, random_state=42,\n",
        "                           max_iter=5, tol=None)),\n",
        " ])"
      ],
      "metadata": {
        "id": "uq1MnvOQYz8E"
      },
      "execution_count": null,
      "outputs": []
    },
    {
      "cell_type": "code",
      "source": [
        "text_clf.fit(X_train_tfidf, y_train)\n",
        "predicted = text_clf.predict(x_test)\n",
        "np.mean(predicted == y_test)"
      ],
      "metadata": {
        "id": "87nYtIwjZKRg"
      },
      "execution_count": null,
      "outputs": []
    },
    {
      "cell_type": "code",
      "source": [
        "from sklearn import metrics\n",
        "print(metrics.classification_report(y_test, predicted))"
      ],
      "metadata": {
        "id": "hB49dhWSaPsg"
      },
      "execution_count": null,
      "outputs": []
    },
    {
      "cell_type": "code",
      "source": [
        "from sklearn.model_selection import GridSearchCV\n",
        "parameters = {\n",
        "     'vect__ngram_range': [(1, 1), (1, 2)],\n",
        "     'tfidf__use_idf': (True, False),\n",
        "     'clf__alpha': (1e-2, 1e-3),\n",
        " }"
      ],
      "metadata": {
        "id": "FXwjyuSLbJFW"
      },
      "execution_count": null,
      "outputs": []
    },
    {
      "cell_type": "code",
      "source": [
        "gs_clf = GridSearchCV(text_clf, parameters, cv=10, n_jobs=-1)"
      ],
      "metadata": {
        "id": "OGQAZvRzbQTw"
      },
      "execution_count": null,
      "outputs": []
    },
    {
      "cell_type": "code",
      "source": [
        "gs_clf = gs_clf.fit(x_train, y_train)"
      ],
      "metadata": {
        "id": "9I9ObFhQbT7M"
      },
      "execution_count": null,
      "outputs": []
    },
    {
      "cell_type": "code",
      "source": [
        "gs_clf.best_score_"
      ],
      "metadata": {
        "id": "LGzReiDtba_M"
      },
      "execution_count": null,
      "outputs": []
    },
    {
      "cell_type": "code",
      "source": [
        "for param_name in sorted(parameters.keys()):\n",
        "    print(\"%s: %r\" % (param_name, gs_clf.best_params_[param_name]))"
      ],
      "metadata": {
        "id": "EITGadFfbh4n"
      },
      "execution_count": null,
      "outputs": []
    },
    {
      "cell_type": "markdown",
      "source": [
        "#Using TFIDF"
      ],
      "metadata": {
        "id": "MkvJsI3hFbJk"
      }
    },
    {
      "cell_type": "code",
      "source": [
        "from sklearn.feature_extraction.text import TfidfVectorizer\n",
        "from spacy.lang.id.stop_words import STOP_WORDS\n",
        "\n",
        "# create the transform\n",
        "vectorizer = TfidfVectorizer(stop_words=indonesian_stop_words)\n",
        "\n",
        "# tokenize and build vocab\n",
        "vectorizer.fit(df['clean_tweet'].values)\n",
        "\n",
        "x_vec = vectorizer.transform(df['clean_tweet'].values)"
      ],
      "metadata": {
        "id": "DUzp6fUvFdWt"
      },
      "execution_count": 65,
      "outputs": []
    },
    {
      "cell_type": "code",
      "source": [
        "#Handling imbalance dataset\n",
        "from imblearn.over_sampling import SMOTE\n",
        "smote = SMOTE()\n",
        "X, y = smote.fit_resample(x_vec, df['Label'])"
      ],
      "metadata": {
        "id": "K6WNOg08HWCS"
      },
      "execution_count": 66,
      "outputs": []
    },
    {
      "cell_type": "code",
      "source": [
        "from sklearn.model_selection import train_test_split\n",
        "\n",
        "# use 80% for the training and 20% for the test\n",
        "x_train, x_test, y_train, y_test = train_test_split(X, y,\n",
        "                                                    stratify=y,\n",
        "                                                    random_state=1,\n",
        "                                                    test_size=0.2)"
      ],
      "metadata": {
        "id": "tF-TPYgtHX78"
      },
      "execution_count": 67,
      "outputs": []
    },
    {
      "cell_type": "code",
      "source": [
        "from sklearn import svm\n",
        "# classify using support vector classifier\n",
        "svm_1 = svm.SVC(C=1, gamma=0.1, kernel='rbf', probability=True)\n",
        "\n",
        "# fit the SVC model based on the given training data\n",
        "prob = svm_1.fit(x_train, y_train)\n",
        "\n",
        "# perform classification and prediction on samples in x_test\n",
        "y_pred_svm = svm_1.predict(x_test)"
      ],
      "metadata": {
        "id": "Sr6fhvmkH2rx"
      },
      "execution_count": 68,
      "outputs": []
    },
    {
      "cell_type": "code",
      "source": [
        "from sklearn.metrics import confusion_matrix, classification_report\n",
        "y_train_pred = svm_1.fit(x_train, y_train).predict(x_train)\n",
        "y_test_pred = svm_1.fit(x_train, y_train).predict(x_test)\n",
        "\n",
        "print('SUPPORT VECTOR MACHINE TRAINING RESULT:')\n",
        "print('======================================================')\n",
        "print('Accuracy:', svm_1.fit(x_train, y_train).score(x_train, y_train))\n",
        "print('======================================================')\n",
        "print('Classification Report --------------------------------')\n",
        "print(classification_report(y_train, y_train_pred))\n",
        "print('======================================================')\n",
        "print('Confussion Matrix ------------------------------------')\n",
        "print(confusion_matrix(y_train, y_train_pred))\n",
        "\n",
        "print('\\n======================================================')\n",
        "\n",
        "print('\\n SUPPORT VECTOR MACHINE TESTING RESULT:')\n",
        "print('======================================================')\n",
        "print('Accuracy:', svm_1.fit(x_train, y_train).score(x_test, y_test))\n",
        "print('======================================================')\n",
        "print('Classification Report --------------------------------')\n",
        "print(classification_report(y_test, y_test_pred))\n",
        "print('======================================================')\n",
        "print('Confussion Matrix ------------------------------------')\n",
        "print(confusion_matrix(y_test, y_test_pred))"
      ],
      "metadata": {
        "id": "Bq5-H9JnH_WY",
        "colab": {
          "base_uri": "https://localhost:8080/"
        },
        "outputId": "f91b293a-6626-4b8b-f6a0-152a564fcecd"
      },
      "execution_count": 69,
      "outputs": [
        {
          "output_type": "stream",
          "name": "stdout",
          "text": [
            "SUPPORT VECTOR MACHINE TRAINING RESULT:\n",
            "======================================================\n",
            "Accuracy: 0.8879581151832461\n",
            "======================================================\n",
            "Classification Report --------------------------------\n",
            "              precision    recall  f1-score   support\n",
            "\n",
            "           0       0.84      0.96      0.90       955\n",
            "           1       0.95      0.82      0.88       955\n",
            "\n",
            "    accuracy                           0.89      1910\n",
            "   macro avg       0.90      0.89      0.89      1910\n",
            "weighted avg       0.90      0.89      0.89      1910\n",
            "\n",
            "======================================================\n",
            "Confussion Matrix ------------------------------------\n",
            "[[913  42]\n",
            " [172 783]]\n",
            "\n",
            "======================================================\n",
            "\n",
            " SUPPORT VECTOR MACHINE TESTING RESULT:\n",
            "======================================================\n",
            "Accuracy: 0.8535564853556485\n",
            "======================================================\n",
            "Classification Report --------------------------------\n",
            "              precision    recall  f1-score   support\n",
            "\n",
            "           0       0.80      0.95      0.87       239\n",
            "           1       0.93      0.76      0.84       239\n",
            "\n",
            "    accuracy                           0.85       478\n",
            "   macro avg       0.87      0.85      0.85       478\n",
            "weighted avg       0.87      0.85      0.85       478\n",
            "\n",
            "======================================================\n",
            "Confussion Matrix ------------------------------------\n",
            "[[226  13]\n",
            " [ 57 182]]\n"
          ]
        }
      ]
    },
    {
      "cell_type": "code",
      "source": [
        "scrappp['result'] = pd.DataFrame(prediction_result)"
      ],
      "metadata": {
        "id": "W_aeV7tRtvW4"
      },
      "execution_count": null,
      "outputs": []
    },
    {
      "cell_type": "code",
      "source": [
        "scrappp[scrappp['result']==1]"
      ],
      "metadata": {
        "id": "aH6dLEaEt1cs"
      },
      "execution_count": null,
      "outputs": []
    },
    {
      "cell_type": "code",
      "source": [
        "testify_vec2 = vectorizer.transform(scrappp['content'].values)"
      ],
      "metadata": {
        "id": "BZFNMYkrc7HL"
      },
      "execution_count": null,
      "outputs": []
    },
    {
      "cell_type": "code",
      "source": [
        "prediction_result2 = svm_1.fit(x_train, y_train).predict(testify_vec2)"
      ],
      "metadata": {
        "id": "w8i8n0Obc-E3"
      },
      "execution_count": null,
      "outputs": []
    },
    {
      "cell_type": "code",
      "source": [
        "scrappp['result_for_content'] = pd.DataFrame(prediction_result2)"
      ],
      "metadata": {
        "id": "MrijwO9JdCWm"
      },
      "execution_count": null,
      "outputs": []
    },
    {
      "cell_type": "code",
      "source": [
        "scrappp[scrappp['result_for_content']==1]"
      ],
      "metadata": {
        "id": "mlqvSUuqe6Qa"
      },
      "execution_count": null,
      "outputs": []
    },
    {
      "cell_type": "markdown",
      "source": [
        "# Data Cleansing for Visualization"
      ],
      "metadata": {
        "id": "0dJGJoJLVu27"
      }
    },
    {
      "cell_type": "code",
      "source": [
        "df['clean_tweet'].to_excel('cleaneddd.xlsx')"
      ],
      "metadata": {
        "id": "aaPwYVUaXOjh"
      },
      "execution_count": 70,
      "outputs": []
    },
    {
      "cell_type": "code",
      "source": [
        "tempArr = []\n",
        "for line in df['clean_tweet']:\n",
        "  tempArr.append(line.split())\n",
        "\n",
        "len(tempArr)"
      ],
      "metadata": {
        "id": "mKgI1aW_XRSD",
        "colab": {
          "base_uri": "https://localhost:8080/"
        },
        "outputId": "8546718d-41bb-48ab-c775-e60dcfe6ac2b"
      },
      "execution_count": 71,
      "outputs": [
        {
          "output_type": "execute_result",
          "data": {
            "text/plain": [
              "1582"
            ]
          },
          "metadata": {},
          "execution_count": 71
        }
      ]
    },
    {
      "cell_type": "code",
      "source": [
        "df['split_words'] = tempArr"
      ],
      "metadata": {
        "id": "3OuYQikaZncr"
      },
      "execution_count": 72,
      "outputs": []
    },
    {
      "cell_type": "code",
      "source": [
        "df.head()"
      ],
      "metadata": {
        "id": "dfRHFDaTd-uf",
        "colab": {
          "base_uri": "https://localhost:8080/",
          "height": 293
        },
        "outputId": "d828feab-c3b9-4d94-b7d9-a771592cc60c"
      },
      "execution_count": 73,
      "outputs": [
        {
          "output_type": "execute_result",
          "data": {
            "text/plain": [
              "                   Datetime  \\\n",
              "0 2022-05-27 06:04:01+00:00   \n",
              "1 2022-05-27 04:34:08+00:00   \n",
              "2 2022-05-27 04:24:52+00:00   \n",
              "3 2022-05-27 00:50:14+00:00   \n",
              "4 2022-05-26 21:46:38+00:00   \n",
              "\n",
              "                                                Text  Label  \\\n",
              "0  Semoga yang benci islam atau sering giring opi...      0   \n",
              "1  @Naollivia @MegaPKeliduan Tenggelamkan sampai ...      0   \n",
              "2  @whyoedee @NUgarislucu Boleh benci dg Islam tp...      0   \n",
              "3   Aku mendukung abang karena papua jg saudara k...      0   \n",
              "4  @dyahwie @frsp_ Buat ngehina lah, dia kan benc...      0   \n",
              "\n",
              "                                         clean_tweet  \\\n",
              "0  semoga yang benci islam atau sering giring opi...   \n",
              "1  tenggelamkan sampai dasar lautan manusia rasis...   \n",
              "2  boleh benci dg islam tp jgn melesetkan kt takb...   \n",
              "3  aku mendukung abang karena papua jg saudara ku...   \n",
              "4               buat ngehina lah dia kan benci islam   \n",
              "\n",
              "                                         split_words  \n",
              "0  [semoga, yang, benci, islam, atau, sering, gir...  \n",
              "1  [tenggelamkan, sampai, dasar, lautan, manusia,...  \n",
              "2  [boleh, benci, dg, islam, tp, jgn, melesetkan,...  \n",
              "3  [aku, mendukung, abang, karena, papua, jg, sau...  \n",
              "4       [buat, ngehina, lah, dia, kan, benci, islam]  "
            ],
            "text/html": [
              "\n",
              "  <div id=\"df-fffc1b7f-1785-4f7e-bd1d-47bac41e9ce5\" class=\"colab-df-container\">\n",
              "    <div>\n",
              "<style scoped>\n",
              "    .dataframe tbody tr th:only-of-type {\n",
              "        vertical-align: middle;\n",
              "    }\n",
              "\n",
              "    .dataframe tbody tr th {\n",
              "        vertical-align: top;\n",
              "    }\n",
              "\n",
              "    .dataframe thead th {\n",
              "        text-align: right;\n",
              "    }\n",
              "</style>\n",
              "<table border=\"1\" class=\"dataframe\">\n",
              "  <thead>\n",
              "    <tr style=\"text-align: right;\">\n",
              "      <th></th>\n",
              "      <th>Datetime</th>\n",
              "      <th>Text</th>\n",
              "      <th>Label</th>\n",
              "      <th>clean_tweet</th>\n",
              "      <th>split_words</th>\n",
              "    </tr>\n",
              "  </thead>\n",
              "  <tbody>\n",
              "    <tr>\n",
              "      <th>0</th>\n",
              "      <td>2022-05-27 06:04:01+00:00</td>\n",
              "      <td>Semoga yang benci islam atau sering giring opi...</td>\n",
              "      <td>0</td>\n",
              "      <td>semoga yang benci islam atau sering giring opi...</td>\n",
              "      <td>[semoga, yang, benci, islam, atau, sering, gir...</td>\n",
              "    </tr>\n",
              "    <tr>\n",
              "      <th>1</th>\n",
              "      <td>2022-05-27 04:34:08+00:00</td>\n",
              "      <td>@Naollivia @MegaPKeliduan Tenggelamkan sampai ...</td>\n",
              "      <td>0</td>\n",
              "      <td>tenggelamkan sampai dasar lautan manusia rasis...</td>\n",
              "      <td>[tenggelamkan, sampai, dasar, lautan, manusia,...</td>\n",
              "    </tr>\n",
              "    <tr>\n",
              "      <th>2</th>\n",
              "      <td>2022-05-27 04:24:52+00:00</td>\n",
              "      <td>@whyoedee @NUgarislucu Boleh benci dg Islam tp...</td>\n",
              "      <td>0</td>\n",
              "      <td>boleh benci dg islam tp jgn melesetkan kt takb...</td>\n",
              "      <td>[boleh, benci, dg, islam, tp, jgn, melesetkan,...</td>\n",
              "    </tr>\n",
              "    <tr>\n",
              "      <th>3</th>\n",
              "      <td>2022-05-27 00:50:14+00:00</td>\n",
              "      <td>Aku mendukung abang karena papua jg saudara k...</td>\n",
              "      <td>0</td>\n",
              "      <td>aku mendukung abang karena papua jg saudara ku...</td>\n",
              "      <td>[aku, mendukung, abang, karena, papua, jg, sau...</td>\n",
              "    </tr>\n",
              "    <tr>\n",
              "      <th>4</th>\n",
              "      <td>2022-05-26 21:46:38+00:00</td>\n",
              "      <td>@dyahwie @frsp_ Buat ngehina lah, dia kan benc...</td>\n",
              "      <td>0</td>\n",
              "      <td>buat ngehina lah dia kan benci islam</td>\n",
              "      <td>[buat, ngehina, lah, dia, kan, benci, islam]</td>\n",
              "    </tr>\n",
              "  </tbody>\n",
              "</table>\n",
              "</div>\n",
              "    <div class=\"colab-df-buttons\">\n",
              "\n",
              "  <div class=\"colab-df-container\">\n",
              "    <button class=\"colab-df-convert\" onclick=\"convertToInteractive('df-fffc1b7f-1785-4f7e-bd1d-47bac41e9ce5')\"\n",
              "            title=\"Convert this dataframe to an interactive table.\"\n",
              "            style=\"display:none;\">\n",
              "\n",
              "  <svg xmlns=\"http://www.w3.org/2000/svg\" height=\"24px\" viewBox=\"0 -960 960 960\">\n",
              "    <path d=\"M120-120v-720h720v720H120Zm60-500h600v-160H180v160Zm220 220h160v-160H400v160Zm0 220h160v-160H400v160ZM180-400h160v-160H180v160Zm440 0h160v-160H620v160ZM180-180h160v-160H180v160Zm440 0h160v-160H620v160Z\"/>\n",
              "  </svg>\n",
              "    </button>\n",
              "\n",
              "  <style>\n",
              "    .colab-df-container {\n",
              "      display:flex;\n",
              "      gap: 12px;\n",
              "    }\n",
              "\n",
              "    .colab-df-convert {\n",
              "      background-color: #E8F0FE;\n",
              "      border: none;\n",
              "      border-radius: 50%;\n",
              "      cursor: pointer;\n",
              "      display: none;\n",
              "      fill: #1967D2;\n",
              "      height: 32px;\n",
              "      padding: 0 0 0 0;\n",
              "      width: 32px;\n",
              "    }\n",
              "\n",
              "    .colab-df-convert:hover {\n",
              "      background-color: #E2EBFA;\n",
              "      box-shadow: 0px 1px 2px rgba(60, 64, 67, 0.3), 0px 1px 3px 1px rgba(60, 64, 67, 0.15);\n",
              "      fill: #174EA6;\n",
              "    }\n",
              "\n",
              "    .colab-df-buttons div {\n",
              "      margin-bottom: 4px;\n",
              "    }\n",
              "\n",
              "    [theme=dark] .colab-df-convert {\n",
              "      background-color: #3B4455;\n",
              "      fill: #D2E3FC;\n",
              "    }\n",
              "\n",
              "    [theme=dark] .colab-df-convert:hover {\n",
              "      background-color: #434B5C;\n",
              "      box-shadow: 0px 1px 3px 1px rgba(0, 0, 0, 0.15);\n",
              "      filter: drop-shadow(0px 1px 2px rgba(0, 0, 0, 0.3));\n",
              "      fill: #FFFFFF;\n",
              "    }\n",
              "  </style>\n",
              "\n",
              "    <script>\n",
              "      const buttonEl =\n",
              "        document.querySelector('#df-fffc1b7f-1785-4f7e-bd1d-47bac41e9ce5 button.colab-df-convert');\n",
              "      buttonEl.style.display =\n",
              "        google.colab.kernel.accessAllowed ? 'block' : 'none';\n",
              "\n",
              "      async function convertToInteractive(key) {\n",
              "        const element = document.querySelector('#df-fffc1b7f-1785-4f7e-bd1d-47bac41e9ce5');\n",
              "        const dataTable =\n",
              "          await google.colab.kernel.invokeFunction('convertToInteractive',\n",
              "                                                    [key], {});\n",
              "        if (!dataTable) return;\n",
              "\n",
              "        const docLinkHtml = 'Like what you see? Visit the ' +\n",
              "          '<a target=\"_blank\" href=https://colab.research.google.com/notebooks/data_table.ipynb>data table notebook</a>'\n",
              "          + ' to learn more about interactive tables.';\n",
              "        element.innerHTML = '';\n",
              "        dataTable['output_type'] = 'display_data';\n",
              "        await google.colab.output.renderOutput(dataTable, element);\n",
              "        const docLink = document.createElement('div');\n",
              "        docLink.innerHTML = docLinkHtml;\n",
              "        element.appendChild(docLink);\n",
              "      }\n",
              "    </script>\n",
              "  </div>\n",
              "\n",
              "\n",
              "<div id=\"df-2fa98249-89de-4a2d-b546-3964f93f367e\">\n",
              "  <button class=\"colab-df-quickchart\" onclick=\"quickchart('df-2fa98249-89de-4a2d-b546-3964f93f367e')\"\n",
              "            title=\"Suggest charts.\"\n",
              "            style=\"display:none;\">\n",
              "\n",
              "<svg xmlns=\"http://www.w3.org/2000/svg\" height=\"24px\"viewBox=\"0 0 24 24\"\n",
              "     width=\"24px\">\n",
              "    <g>\n",
              "        <path d=\"M19 3H5c-1.1 0-2 .9-2 2v14c0 1.1.9 2 2 2h14c1.1 0 2-.9 2-2V5c0-1.1-.9-2-2-2zM9 17H7v-7h2v7zm4 0h-2V7h2v10zm4 0h-2v-4h2v4z\"/>\n",
              "    </g>\n",
              "</svg>\n",
              "  </button>\n",
              "\n",
              "<style>\n",
              "  .colab-df-quickchart {\n",
              "      --bg-color: #E8F0FE;\n",
              "      --fill-color: #1967D2;\n",
              "      --hover-bg-color: #E2EBFA;\n",
              "      --hover-fill-color: #174EA6;\n",
              "      --disabled-fill-color: #AAA;\n",
              "      --disabled-bg-color: #DDD;\n",
              "  }\n",
              "\n",
              "  [theme=dark] .colab-df-quickchart {\n",
              "      --bg-color: #3B4455;\n",
              "      --fill-color: #D2E3FC;\n",
              "      --hover-bg-color: #434B5C;\n",
              "      --hover-fill-color: #FFFFFF;\n",
              "      --disabled-bg-color: #3B4455;\n",
              "      --disabled-fill-color: #666;\n",
              "  }\n",
              "\n",
              "  .colab-df-quickchart {\n",
              "    background-color: var(--bg-color);\n",
              "    border: none;\n",
              "    border-radius: 50%;\n",
              "    cursor: pointer;\n",
              "    display: none;\n",
              "    fill: var(--fill-color);\n",
              "    height: 32px;\n",
              "    padding: 0;\n",
              "    width: 32px;\n",
              "  }\n",
              "\n",
              "  .colab-df-quickchart:hover {\n",
              "    background-color: var(--hover-bg-color);\n",
              "    box-shadow: 0 1px 2px rgba(60, 64, 67, 0.3), 0 1px 3px 1px rgba(60, 64, 67, 0.15);\n",
              "    fill: var(--button-hover-fill-color);\n",
              "  }\n",
              "\n",
              "  .colab-df-quickchart-complete:disabled,\n",
              "  .colab-df-quickchart-complete:disabled:hover {\n",
              "    background-color: var(--disabled-bg-color);\n",
              "    fill: var(--disabled-fill-color);\n",
              "    box-shadow: none;\n",
              "  }\n",
              "\n",
              "  .colab-df-spinner {\n",
              "    border: 2px solid var(--fill-color);\n",
              "    border-color: transparent;\n",
              "    border-bottom-color: var(--fill-color);\n",
              "    animation:\n",
              "      spin 1s steps(1) infinite;\n",
              "  }\n",
              "\n",
              "  @keyframes spin {\n",
              "    0% {\n",
              "      border-color: transparent;\n",
              "      border-bottom-color: var(--fill-color);\n",
              "      border-left-color: var(--fill-color);\n",
              "    }\n",
              "    20% {\n",
              "      border-color: transparent;\n",
              "      border-left-color: var(--fill-color);\n",
              "      border-top-color: var(--fill-color);\n",
              "    }\n",
              "    30% {\n",
              "      border-color: transparent;\n",
              "      border-left-color: var(--fill-color);\n",
              "      border-top-color: var(--fill-color);\n",
              "      border-right-color: var(--fill-color);\n",
              "    }\n",
              "    40% {\n",
              "      border-color: transparent;\n",
              "      border-right-color: var(--fill-color);\n",
              "      border-top-color: var(--fill-color);\n",
              "    }\n",
              "    60% {\n",
              "      border-color: transparent;\n",
              "      border-right-color: var(--fill-color);\n",
              "    }\n",
              "    80% {\n",
              "      border-color: transparent;\n",
              "      border-right-color: var(--fill-color);\n",
              "      border-bottom-color: var(--fill-color);\n",
              "    }\n",
              "    90% {\n",
              "      border-color: transparent;\n",
              "      border-bottom-color: var(--fill-color);\n",
              "    }\n",
              "  }\n",
              "</style>\n",
              "\n",
              "  <script>\n",
              "    async function quickchart(key) {\n",
              "      const quickchartButtonEl =\n",
              "        document.querySelector('#' + key + ' button');\n",
              "      quickchartButtonEl.disabled = true;  // To prevent multiple clicks.\n",
              "      quickchartButtonEl.classList.add('colab-df-spinner');\n",
              "      try {\n",
              "        const charts = await google.colab.kernel.invokeFunction(\n",
              "            'suggestCharts', [key], {});\n",
              "      } catch (error) {\n",
              "        console.error('Error during call to suggestCharts:', error);\n",
              "      }\n",
              "      quickchartButtonEl.classList.remove('colab-df-spinner');\n",
              "      quickchartButtonEl.classList.add('colab-df-quickchart-complete');\n",
              "    }\n",
              "    (() => {\n",
              "      let quickchartButtonEl =\n",
              "        document.querySelector('#df-2fa98249-89de-4a2d-b546-3964f93f367e button');\n",
              "      quickchartButtonEl.style.display =\n",
              "        google.colab.kernel.accessAllowed ? 'block' : 'none';\n",
              "    })();\n",
              "  </script>\n",
              "</div>\n",
              "    </div>\n",
              "  </div>\n"
            ]
          },
          "metadata": {},
          "execution_count": 73
        }
      ]
    },
    {
      "cell_type": "code",
      "source": [
        "!pip install nltk"
      ],
      "metadata": {
        "id": "7oND_lDFVqoz",
        "colab": {
          "base_uri": "https://localhost:8080/"
        },
        "outputId": "6eb7bbea-808c-4fb5-fd47-482a73f5978c"
      },
      "execution_count": 74,
      "outputs": [
        {
          "output_type": "stream",
          "name": "stdout",
          "text": [
            "Requirement already satisfied: nltk in /usr/local/lib/python3.10/dist-packages (3.8.1)\n",
            "Requirement already satisfied: click in /usr/local/lib/python3.10/dist-packages (from nltk) (8.1.7)\n",
            "Requirement already satisfied: joblib in /usr/local/lib/python3.10/dist-packages (from nltk) (1.3.2)\n",
            "Requirement already satisfied: regex>=2021.8.3 in /usr/local/lib/python3.10/dist-packages (from nltk) (2023.6.3)\n",
            "Requirement already satisfied: tqdm in /usr/local/lib/python3.10/dist-packages (from nltk) (4.66.1)\n"
          ]
        }
      ]
    },
    {
      "cell_type": "code",
      "source": [
        "!python -m nltk.downloader popular"
      ],
      "metadata": {
        "id": "XpgLG_uHWvhz",
        "colab": {
          "base_uri": "https://localhost:8080/"
        },
        "outputId": "131ff356-71a3-4629-ad0d-0ed262931921"
      },
      "execution_count": 75,
      "outputs": [
        {
          "output_type": "stream",
          "name": "stdout",
          "text": [
            "/usr/lib/python3.10/runpy.py:126: RuntimeWarning: 'nltk.downloader' found in sys.modules after import of package 'nltk', but prior to execution of 'nltk.downloader'; this may result in unpredictable behaviour\n",
            "  warn(RuntimeWarning(msg))\n",
            "[nltk_data] Downloading collection 'popular'\n",
            "[nltk_data]    | \n",
            "[nltk_data]    | Downloading package cmudict to /root/nltk_data...\n",
            "[nltk_data]    |   Unzipping corpora/cmudict.zip.\n",
            "[nltk_data]    | Downloading package gazetteers to /root/nltk_data...\n",
            "[nltk_data]    |   Unzipping corpora/gazetteers.zip.\n",
            "[nltk_data]    | Downloading package genesis to /root/nltk_data...\n",
            "[nltk_data]    |   Unzipping corpora/genesis.zip.\n",
            "[nltk_data]    | Downloading package gutenberg to /root/nltk_data...\n",
            "[nltk_data]    |   Unzipping corpora/gutenberg.zip.\n",
            "[nltk_data]    | Downloading package inaugural to /root/nltk_data...\n",
            "[nltk_data]    |   Unzipping corpora/inaugural.zip.\n",
            "[nltk_data]    | Downloading package movie_reviews to\n",
            "[nltk_data]    |     /root/nltk_data...\n",
            "[nltk_data]    |   Unzipping corpora/movie_reviews.zip.\n",
            "[nltk_data]    | Downloading package names to /root/nltk_data...\n",
            "[nltk_data]    |   Unzipping corpora/names.zip.\n",
            "[nltk_data]    | Downloading package shakespeare to /root/nltk_data...\n",
            "[nltk_data]    |   Unzipping corpora/shakespeare.zip.\n",
            "[nltk_data]    | Downloading package stopwords to /root/nltk_data...\n",
            "[nltk_data]    |   Package stopwords is already up-to-date!\n",
            "[nltk_data]    | Downloading package treebank to /root/nltk_data...\n",
            "[nltk_data]    |   Unzipping corpora/treebank.zip.\n",
            "[nltk_data]    | Downloading package twitter_samples to\n",
            "[nltk_data]    |     /root/nltk_data...\n",
            "[nltk_data]    |   Unzipping corpora/twitter_samples.zip.\n",
            "[nltk_data]    | Downloading package omw to /root/nltk_data...\n",
            "[nltk_data]    | Downloading package omw-1.4 to /root/nltk_data...\n",
            "[nltk_data]    | Downloading package wordnet to /root/nltk_data...\n",
            "[nltk_data]    | Downloading package wordnet2021 to /root/nltk_data...\n",
            "[nltk_data]    | Downloading package wordnet31 to /root/nltk_data...\n",
            "[nltk_data]    | Downloading package wordnet_ic to /root/nltk_data...\n",
            "[nltk_data]    |   Unzipping corpora/wordnet_ic.zip.\n",
            "[nltk_data]    | Downloading package words to /root/nltk_data...\n",
            "[nltk_data]    |   Unzipping corpora/words.zip.\n",
            "[nltk_data]    | Downloading package maxent_ne_chunker to\n",
            "[nltk_data]    |     /root/nltk_data...\n",
            "[nltk_data]    |   Unzipping chunkers/maxent_ne_chunker.zip.\n",
            "[nltk_data]    | Downloading package punkt to /root/nltk_data...\n",
            "[nltk_data]    |   Unzipping tokenizers/punkt.zip.\n",
            "[nltk_data]    | Downloading package snowball_data to\n",
            "[nltk_data]    |     /root/nltk_data...\n",
            "[nltk_data]    | Downloading package averaged_perceptron_tagger to\n",
            "[nltk_data]    |     /root/nltk_data...\n",
            "[nltk_data]    |   Unzipping taggers/averaged_perceptron_tagger.zip.\n",
            "[nltk_data]    | \n",
            "[nltk_data]  Done downloading collection popular\n"
          ]
        }
      ]
    },
    {
      "cell_type": "code",
      "source": [
        "!pip install PySastrawi"
      ],
      "metadata": {
        "id": "EhV36TXjd6fU",
        "colab": {
          "base_uri": "https://localhost:8080/"
        },
        "outputId": "c73e8258-b761-4036-da74-6e63a5385ae8"
      },
      "execution_count": 76,
      "outputs": [
        {
          "output_type": "stream",
          "name": "stdout",
          "text": [
            "Collecting PySastrawi\n",
            "  Downloading PySastrawi-1.2.0-py2.py3-none-any.whl (210 kB)\n",
            "\u001b[?25l     \u001b[90m━━━━━━━━━━━━━━━━━━━━━━━━━━━━━━━━━━━━━━━━\u001b[0m \u001b[32m0.0/210.6 kB\u001b[0m \u001b[31m?\u001b[0m eta \u001b[36m-:--:--\u001b[0m\r\u001b[2K     \u001b[91m━━━━━━━━━━━━━━━━━\u001b[0m\u001b[91m╸\u001b[0m\u001b[90m━━━━━━━━━━━━━━━━━━━━━━\u001b[0m \u001b[32m92.2/210.6 kB\u001b[0m \u001b[31m2.7 MB/s\u001b[0m eta \u001b[36m0:00:01\u001b[0m\r\u001b[2K     \u001b[90m━━━━━━━━━━━━━━━━━━━━━━━━━━━━━━━━━━━━━━━\u001b[0m \u001b[32m210.6/210.6 kB\u001b[0m \u001b[31m4.1 MB/s\u001b[0m eta \u001b[36m0:00:00\u001b[0m\n",
            "\u001b[?25hInstalling collected packages: PySastrawi\n",
            "Successfully installed PySastrawi-1.2.0\n"
          ]
        }
      ]
    },
    {
      "cell_type": "code",
      "source": [
        "from nltk.corpus import stopwords\n",
        "\n",
        "from nltk.tokenize import word_tokenize\n",
        "\n",
        "import matplotlib.pyplot as plt"
      ],
      "metadata": {
        "id": "b7tMg0iId_hE"
      },
      "execution_count": 77,
      "outputs": []
    },
    {
      "cell_type": "code",
      "source": [
        "stop_words = set(stopwords.words('indonesian'))\n",
        "\n",
        "word_tokens_no_stopwords = []\n",
        "\n",
        "for i in df.split_words.values:\n",
        "   for w in i:\n",
        "      if not w in stop_words:\n",
        "        word_tokens_no_stopwords.append(w)"
      ],
      "metadata": {
        "id": "UUyQFLGueDON"
      },
      "execution_count": 78,
      "outputs": []
    },
    {
      "cell_type": "code",
      "source": [
        "textfile = open(\"clean_sentiment.txt\", \"w\")\n",
        "for element in word_tokens_no_stopwords:\n",
        "    textfile.write(element + \"\\n\")\n",
        "textfile.close()"
      ],
      "metadata": {
        "id": "efQrWmewfIcG"
      },
      "execution_count": 79,
      "outputs": []
    }
  ],
  "metadata": {
    "colab": {
      "provenance": [],
      "include_colab_link": true
    },
    "kernelspec": {
      "display_name": "Python 3",
      "language": "python",
      "name": "python3"
    },
    "language_info": {
      "codemirror_mode": {
        "name": "ipython",
        "version": 3
      },
      "file_extension": ".py",
      "mimetype": "text/x-python",
      "name": "python",
      "nbconvert_exporter": "python",
      "pygments_lexer": "ipython3",
      "version": "3.7.3"
    },
    "accelerator": "GPU"
  },
  "nbformat": 4,
  "nbformat_minor": 0
}